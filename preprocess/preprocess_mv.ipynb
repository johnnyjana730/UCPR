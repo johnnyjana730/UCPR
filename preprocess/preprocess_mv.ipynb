{
 "cells": [
  {
   "cell_type": "code",
   "execution_count": 1,
   "id": "palestinian-system",
   "metadata": {},
   "outputs": [],
   "source": [
    "from __future__ import absolute_import, division, print_function\n",
    "\n",
    "import os\n",
    "import pickle\n",
    "import gzip\n",
    "import pandas as pd\n",
    "\n",
    "import sys\n",
    "sys.path.insert(0,'..')\n",
    "\n",
    "from utils import *\n",
    "from dataset import RW_based_dataset, KG_based_dataset\n",
    "from knowledge_graph import RW_based_KG, KG_based_KG\n",
    "import pandas as pd"
   ]
  },
  {
   "cell_type": "code",
   "execution_count": 2,
   "id": "pleasant-confidence",
   "metadata": {},
   "outputs": [],
   "source": [
    "class args_class:\n",
    "    def __init__(self):\n",
    "        self.dataset = MOVIE_CORE\n",
    "        self.att_th_lower = 0\n",
    "        self.att_th_upper = 3000\n",
    "        self.user_core_th = 6\n",
    "        self.user_top_k = 6000\n",
    "\n",
    "args = args_class()\n",
    "        \n",
    "if not os.path.isdir(DATA_DIR[args.dataset]):\n",
    "    os.makedirs(DATA_DIR[args.dataset])"
   ]
  },
  {
   "cell_type": "markdown",
   "id": "breeding-corrections",
   "metadata": {},
   "source": [
    "load review to dataset class"
   ]
  },
  {
   "cell_type": "code",
   "execution_count": 3,
   "id": "proper-addiction",
   "metadata": {},
   "outputs": [
    {
     "name": "stdout",
     "output_type": "stream",
     "text": [
      "Load MovieLens-1M_core dataset from file...\n",
      "n_user =  6036\n",
      "n_item =  2445\n",
      "n_attribute =  182011\n",
      "self.entity_list =  {'user': {'vocab_size': 6036}, 'product': {'vocab_size': 8481}, 'attribute': {'vocab_size': 188047}}\n"
     ]
    }
   ],
   "source": [
    "print('Load', args.dataset, 'dataset from file...')\n",
    "dataset = KG_based_dataset(args, DATA_DIR[args.dataset])"
   ]
  },
  {
   "cell_type": "markdown",
   "id": "compatible-mathematics",
   "metadata": {},
   "source": [
    "generate train and test label by filtered users"
   ]
  },
  {
   "cell_type": "code",
   "execution_count": 4,
   "id": "concerned-carroll",
   "metadata": {},
   "outputs": [],
   "source": [
    "def kg_labels_filter(core_user_list, dataset, mode='train'):\n",
    "\n",
    "    rating_file = DATA_DIR[dataset] + '/ratings_final'\n",
    "    rating_np = np.load(rating_file + '.npy')\n",
    "    n_user = max(set(rating_np[:, 0])) + 1\n",
    "    data = pd.read_csv(f'{DATA_DIR[dataset]}/{mode}_pd.csv',index_col=None)\n",
    "    data = data.drop(data.columns[0], axis=1)\n",
    "    data = data[['user','item','like']].values\n",
    "\n",
    "    seen = {'user':{}, 'items':{}}\n",
    "    user_products = {}  # {uid: [pid,...], ...}\n",
    "    for row in data:\n",
    "        user_idx, product_idx, like = row[0], row[1]  + n_user, row[2]\n",
    "        if like == 0: continue\n",
    "        if user_idx in core_user_list:\n",
    "            if user_idx not in user_products:\n",
    "                user_products[user_idx] = []\n",
    "            user_products[user_idx].append(product_idx)\n",
    "            if user_idx not in seen['user']:  seen['user'][user_idx] = len(seen['user'])\n",
    "            if product_idx not in seen['items']: seen['items'][product_idx] = len(seen['items'])\n",
    "\n",
    "    print('seen.user, seen.items = ', len(seen['user']), len(seen['items']))\n",
    "    return user_products"
   ]
  },
  {
   "cell_type": "code",
   "execution_count": 5,
   "id": "elder-snowboard",
   "metadata": {},
   "outputs": [
    {
     "name": "stdout",
     "output_type": "stream",
     "text": [
      "generate filter label MovieLens-1M_core knowledge graph from dataset...\n",
      "seen.user, seen.items =  6000 2192\n",
      "seen.user, seen.items =  5851 2013\n"
     ]
    }
   ],
   "source": [
    "print('generate filter label', args.dataset, 'knowledge graph from dataset...')\n",
    "core_user_list = dataset.core_user_list\n",
    "trn_label = kg_labels_filter(core_user_list, args.dataset, 'train')\n",
    "tst_label = kg_labels_filter(core_user_list, args.dataset, 'test')"
   ]
  },
  {
   "cell_type": "code",
   "execution_count": 6,
   "id": "personalized-material",
   "metadata": {},
   "outputs": [
    {
     "name": "stdout",
     "output_type": "stream",
     "text": [
      "build MovieLens-1M_core knowledge graph from dataset...\n",
      "Remove duplicates...\n",
      "relation =  {'purchase': [['user', 0, 'purchase', 7455], ['product', 7455, 'purchase', 0], ['user', 0, 'purchase', 7727], ['product', 7727, 'purchase', 0], ['user', 0, 'purchase', 6706], ['product', 6706, 'purchase', 0], ['user', 0, 'purchase', 7732], ['product', 7732, 'purchase', 0], ['user', 0, 'purchase', 6201], ['product', 6201, 'purchase', 0], ['user', 0, 'purchase', 6975], ['product', 6975, 'purchase', 0], ['user', 0, 'purchase', 7261], ['product', 7261, 'purchase', 0], ['user', 0, 'purchase', 6377], ['product', 6377, 'purchase', 0], ['user', 0, 'purchase', 7660], ['product', 7660, 'purchase', 0], ['user', 0, 'purchase', 6127], ['product', 6127, 'purchase', 0], ['user', 0, 'purchase', 7796], ['product', 7796, 'purchase', 0], ['user', 0, 'purchase', 7419], ['product', 7419, 'purchase', 0], ['user', 0, 'purchase', 6781], ['product', 6781, 'purchase', 0], ['user', 0, 'purchase', 6660], ['product', 6660, 'purchase', 0], ['user', 0, 'purchase', 6803], ['product', 6803, 'purchase', 0]], 'padding': [], '0': [['attribute', 8481, '0', 8482], ['attribute', 8482, '0', 8481], ['attribute', 8487, '0', 8488], ['attribute', 8488, '0', 8487], ['attribute', 8489, '0', 8490], ['attribute', 8490, '0', 8489], ['attribute', 8495, '0', 8496], ['attribute', 8496, '0', 8495], ['attribute', 8499, '0', 8500], ['attribute', 8500, '0', 8499], ['attribute', 8508, '0', 8509], ['attribute', 8509, '0', 8508], ['attribute', 8516, '0', 8517], ['attribute', 8517, '0', 8516], ['attribute', 8518, '0', 8519], ['attribute', 8519, '0', 8518], ['attribute', 8522, '0', 8523], ['attribute', 8523, '0', 8522], ['attribute', 8532, '0', 8533], ['attribute', 8533, '0', 8532], ['attribute', 8536, '0', 8537], ['attribute', 8537, '0', 8536], ['attribute', 8538, '0', 8539], ['attribute', 8539, '0', 8538], ['attribute', 8545, '0', 8546], ['attribute', 8546, '0', 8545], ['attribute', 8548, '0', 8549], ['attribute', 8549, '0', 8548], ['attribute', 8552, '0', 8553], ['attribute', 8553, '0', 8552]], '9': [['attribute', 8696, '9', 8697], ['attribute', 8697, '9', 8696], ['attribute', 8936, '9', 8937], ['attribute', 8937, '9', 8936], ['attribute', 9052, '9', 9053], ['attribute', 9053, '9', 9052], ['attribute', 9060, '9', 9061], ['attribute', 9061, '9', 9060], ['attribute', 9069, '9', 9070], ['attribute', 9070, '9', 9069], ['attribute', 9124, '9', 9125], ['attribute', 9125, '9', 9124], ['attribute', 9152, '9', 9153], ['attribute', 9153, '9', 9152], ['attribute', 9453, '9', 9454], ['attribute', 9454, '9', 9453], ['product', 6509, '9', 9658], ['attribute', 9658, '9', 6509], ['attribute', 9737, '9', 9738], ['attribute', 9738, '9', 9737], ['attribute', 9741, '9', 9742], ['attribute', 9742, '9', 9741], ['attribute', 9752, '9', 9753], ['attribute', 9753, '9', 9752], ['attribute', 9796, '9', 9797], ['attribute', 9797, '9', 9796], ['attribute', 9920, '9', 9921], ['attribute', 9921, '9', 9920], ['attribute', 9937, '9', 9938], ['attribute', 9938, '9', 9937]], '6': [['attribute', 11075, '6', 11076], ['attribute', 11076, '6', 11075], ['product', 7300, '6', 11076], ['attribute', 11076, '6', 7300], ['attribute', 15274, '6', 11076], ['attribute', 11076, '6', 15274], ['attribute', 16776, '6', 11076], ['attribute', 11076, '6', 16776], ['attribute', 17374, '6', 11076], ['attribute', 11076, '6', 17374], ['product', 8431, '6', 11076], ['attribute', 11076, '6', 8431], ['attribute', 17662, '6', 11076], ['attribute', 11076, '6', 17662], ['attribute', 24843, '6', 11076], ['attribute', 11076, '6', 24843], ['attribute', 29243, '6', 11076], ['attribute', 11076, '6', 29243], ['product', 6491, '6', 11076], ['attribute', 11076, '6', 6491], ['attribute', 33879, '6', 11076], ['attribute', 11076, '6', 33879], ['attribute', 29650, '6', 11076], ['attribute', 11076, '6', 29650], ['attribute', 38724, '6', 11076], ['attribute', 11076, '6', 38724], ['attribute', 40670, '6', 11076], ['attribute', 11076, '6', 40670], ['attribute', 34451, '6', 11076], ['attribute', 11076, '6', 34451]], '7': [['attribute', 8574, '7', 8575], ['attribute', 8575, '7', 8574], ['attribute', 8676, '7', 8677], ['attribute', 8677, '7', 8676], ['attribute', 8732, '7', 8733], ['attribute', 8733, '7', 8732], ['attribute', 8796, '7', 8797], ['attribute', 8797, '7', 8796], ['attribute', 8800, '7', 8801], ['attribute', 8801, '7', 8800], ['attribute', 8867, '7', 8868], ['attribute', 8868, '7', 8867], ['attribute', 8890, '7', 8891], ['attribute', 8891, '7', 8890], ['attribute', 8997, '7', 8998], ['attribute', 8998, '7', 8997], ['attribute', 9031, '7', 9032], ['attribute', 9032, '7', 9031], ['product', 6909, '7', 9049], ['attribute', 9049, '7', 6909], ['attribute', 9180, '7', 9181], ['attribute', 9181, '7', 9180], ['attribute', 9198, '7', 9199], ['attribute', 9199, '7', 9198], ['attribute', 9234, '7', 9235], ['attribute', 9235, '7', 9234], ['attribute', 9238, '7', 9239], ['attribute', 9239, '7', 9238], ['attribute', 9321, '7', 9322], ['attribute', 9322, '7', 9321]], '10': [['attribute', 10775, '10', 10776], ['attribute', 10776, '10', 10775], ['attribute', 13159, '10', 13160], ['attribute', 13160, '10', 13159], ['attribute', 14662, '10', 14663], ['attribute', 14663, '10', 14662], ['attribute', 12202, '10', 10776], ['attribute', 10776, '10', 12202], ['attribute', 16046, '10', 10776], ['attribute', 10776, '10', 16046], ['attribute', 17623, '10', 17624], ['attribute', 17624, '10', 17623], ['attribute', 18114, '10', 10776], ['attribute', 10776, '10', 18114], ['attribute', 18646, '10', 10776], ['attribute', 10776, '10', 18646], ['attribute', 19602, '10', 14663], ['attribute', 14663, '10', 19602], ['attribute', 20452, '10', 10776], ['attribute', 10776, '10', 20452], ['attribute', 20665, '10', 10776], ['attribute', 10776, '10', 20665], ['attribute', 21046, '10', 13160], ['attribute', 13160, '10', 21046], ['attribute', 21428, '10', 21429], ['attribute', 21429, '10', 21428], ['attribute', 24136, '10', 10776], ['attribute', 10776, '10', 24136], ['attribute', 24724, '10', 17624], ['attribute', 17624, '10', 24724]], '3': [['attribute', 8830, '3', 8831], ['attribute', 8831, '3', 8830], ['attribute', 8898, '3', 8831], ['attribute', 8831, '3', 8898], ['attribute', 9693, '3', 9694], ['attribute', 9694, '3', 9693], ['attribute', 10158, '3', 9694], ['attribute', 9694, '3', 10158], ['attribute', 10221, '3', 10222], ['attribute', 10222, '3', 10221], ['attribute', 10634, '3', 10635], ['attribute', 10635, '3', 10634], ['attribute', 11590, '3', 11591], ['attribute', 11591, '3', 11590], ['attribute', 12000, '3', 9694], ['attribute', 9694, '3', 12000], ['attribute', 13151, '3', 13152], ['attribute', 13152, '3', 13151], ['attribute', 9459, '3', 13285], ['attribute', 13285, '3', 9459], ['attribute', 13433, '3', 13434], ['attribute', 13434, '3', 13433], ['attribute', 13472, '3', 13473], ['attribute', 13473, '3', 13472], ['attribute', 13612, '3', 13613], ['attribute', 13613, '3', 13612], ['attribute', 16023, '3', 11591], ['attribute', 11591, '3', 16023], ['attribute', 16726, '3', 13152], ['attribute', 13152, '3', 16726]], '11': [['attribute', 14266, '11', 14267], ['attribute', 14267, '11', 14266], ['attribute', 14266, '11', 82629], ['attribute', 82629, '11', 14266], ['attribute', 58681, '11', 99456], ['attribute', 99456, '11', 58681], ['attribute', 58898, '11', 58897], ['attribute', 58897, '11', 58898], ['attribute', 14266, '11', 124281], ['attribute', 124281, '11', 14266], ['attribute', 14266, '11', 149696], ['attribute', 149696, '11', 14266], ['attribute', 14266, '11', 150523], ['attribute', 150523, '11', 14266], ['attribute', 14266, '11', 113011], ['attribute', 113011, '11', 14266], ['attribute', 14266, '11', 106954], ['attribute', 106954, '11', 14266], ['attribute', 14266, '11', 169464], ['attribute', 169464, '11', 14266], ['attribute', 14266, '11', 170076], ['attribute', 170076, '11', 14266], ['attribute', 14266, '11', 173027], ['attribute', 173027, '11', 14266], ['attribute', 14266, '11', 139112], ['attribute', 139112, '11', 14266], ['attribute', 14266, '11', 158925], ['attribute', 158925, '11', 14266], ['attribute', 14266, '11', 76211], ['attribute', 76211, '11', 14266]], '4': [['attribute', 8497, '4', 8498], ['attribute', 8498, '4', 8497], ['attribute', 8635, '4', 8636], ['attribute', 8636, '4', 8635], ['attribute', 8651, '4', 8652], ['attribute', 8652, '4', 8651], ['attribute', 8655, '4', 8656], ['attribute', 8656, '4', 8655], ['attribute', 8663, '4', 8664], ['attribute', 8664, '4', 8663], ['attribute', 8672, '4', 8673], ['attribute', 8673, '4', 8672], ['attribute', 8687, '4', 8688], ['attribute', 8688, '4', 8687], ['attribute', 8715, '4', 8716], ['attribute', 8716, '4', 8715], ['attribute', 8724, '4', 8725], ['attribute', 8725, '4', 8724], ['attribute', 8728, '4', 8729], ['attribute', 8729, '4', 8728], ['attribute', 8753, '4', 8754], ['attribute', 8754, '4', 8753], ['attribute', 8780, '4', 8781], ['attribute', 8781, '4', 8780], ['attribute', 8786, '4', 8787], ['attribute', 8787, '4', 8786], ['attribute', 8792, '4', 8793], ['attribute', 8793, '4', 8792], ['attribute', 8814, '4', 8293], ['product', 8293, '4', 8814]], '2': [['attribute', 8932, '2', 8933], ['attribute', 8933, '2', 8932], ['attribute', 10245, '2', 10246], ['attribute', 10246, '2', 10245], ['attribute', 10331, '2', 8933], ['attribute', 8933, '2', 10331], ['attribute', 13464, '2', 13465], ['attribute', 13465, '2', 13464], ['attribute', 13783, '2', 13465], ['attribute', 13465, '2', 13783], ['attribute', 14238, '2', 13465], ['attribute', 13465, '2', 14238], ['attribute', 14840, '2', 10246], ['attribute', 10246, '2', 14840], ['attribute', 15097, '2', 15098], ['attribute', 15098, '2', 15097], ['attribute', 15612, '2', 13465], ['attribute', 13465, '2', 15612], ['attribute', 16531, '2', 15098], ['attribute', 15098, '2', 16531], ['product', 6612, '2', 8933], ['attribute', 8933, '2', 6612], ['attribute', 17555, '2', 15098], ['attribute', 15098, '2', 17555], ['attribute', 18961, '2', 10246], ['attribute', 10246, '2', 18961], ['attribute', 19664, '2', 15098], ['attribute', 15098, '2', 19664], ['attribute', 20753, '2', 8933], ['attribute', 8933, '2', 20753]], 'self_loop': [], '1': [['attribute', 8483, '1', 8484], ['attribute', 8484, '1', 8483], ['attribute', 8491, '1', 8492], ['attribute', 8492, '1', 8491], ['attribute', 8503, '1', 8504], ['attribute', 8504, '1', 8503], ['attribute', 8514, '1', 8515], ['attribute', 8515, '1', 8514], ['attribute', 8520, '1', 8521], ['attribute', 8521, '1', 8520], ['attribute', 8524, '1', 8525], ['attribute', 8525, '1', 8524], ['attribute', 8526, '1', 8527], ['attribute', 8527, '1', 8526], ['attribute', 8528, '1', 8529], ['attribute', 8529, '1', 8528], ['attribute', 8534, '1', 8535], ['attribute', 8535, '1', 8534], ['attribute', 8540, '1', 7082], ['product', 7082, '1', 8540], ['attribute', 8543, '1', 8544], ['attribute', 8544, '1', 8543], ['attribute', 8550, '1', 8551], ['attribute', 8551, '1', 8550], ['attribute', 8560, '1', 8561], ['attribute', 8561, '1', 8560], ['attribute', 8566, '1', 8567], ['attribute', 8567, '1', 8566], ['attribute', 8578, '1', 8579], ['attribute', 8579, '1', 8578]], '8': [['attribute', 8618, '8', 8619], ['attribute', 8619, '8', 8618], ['attribute', 8620, '8', 8621], ['attribute', 8621, '8', 8620], ['product', 7859, '8', 8671], ['attribute', 8671, '8', 7859], ['attribute', 8706, '8', 8707], ['attribute', 8707, '8', 8706], ['attribute', 8713, '8', 8714], ['attribute', 8714, '8', 8713], ['attribute', 8775, '8', 8776], ['attribute', 8776, '8', 8775], ['attribute', 8815, '8', 8816], ['attribute', 8816, '8', 8815], ['attribute', 8851, '8', 8852], ['attribute', 8852, '8', 8851], ['attribute', 8857, '8', 8858], ['attribute', 8858, '8', 8857], ['attribute', 9076, '8', 9077], ['attribute', 9077, '8', 9076], ['attribute', 9097, '8', 9098], ['attribute', 9098, '8', 9097], ['attribute', 9116, '8', 9117], ['attribute', 9117, '8', 9116], ['attribute', 9161, '8', 9162], ['attribute', 9162, '8', 9161], ['attribute', 9174, '8', 9175], ['attribute', 9175, '8', 9174], ['attribute', 9214, '8', 9215], ['attribute', 9215, '8', 9214]], '5': [['attribute', 8506, '5', 8507], ['attribute', 8507, '5', 8506], ['attribute', 8510, '5', 8511], ['attribute', 8511, '5', 8510], ['attribute', 8556, '5', 8557], ['attribute', 8557, '5', 8556], ['attribute', 8558, '5', 8559], ['attribute', 8559, '5', 8558], ['attribute', 8562, '5', 8563], ['attribute', 8563, '5', 8562], ['attribute', 8596, '5', 8597], ['attribute', 8597, '5', 8596], ['attribute', 8641, '5', 8642], ['attribute', 8642, '5', 8641], ['attribute', 8690, '5', 8691], ['attribute', 8691, '5', 8690], ['attribute', 8769, '5', 8770], ['attribute', 8770, '5', 8769], ['attribute', 8818, '5', 8819], ['attribute', 8819, '5', 8818], ['attribute', 8836, '5', 8837], ['attribute', 8837, '5', 8836], ['attribute', 8853, '5', 8854], ['attribute', 8854, '5', 8853], ['attribute', 8855, '5', 8856], ['attribute', 8856, '5', 8855], ['attribute', 8860, '5', 8861], ['attribute', 8861, '5', 8860], ['attribute', 8899, '5', 8900], ['attribute', 8900, '5', 8899]]}\n",
      "relation count =  {'purchase': 452486, 'padding': 0, '0': 735776, '9': 73722, '6': 1526, '7': 100994, '10': 4444, '3': 8868, '11': 46, '4': 224732, '2': 4528, 'self_loop': 0, '1': 715796, '8': 105886, '5': 164384}\n",
      "rela avg link number =  {'user': {'purchase': 37.5195688225539, 'self_loop': 1.0}, 'product': {'purchase': 103.21304744525547, 'self_loop': 1.0, '1': 7.6313807531380755, '4': 1.0617030028794734, '0': 7.63237139272271, '8': 1.0617030028794734, '9': 1.0, '7': 1.59816091954023, '5': 1.598526703499079, '6': 1.0, '3': 1.2170542635658914, '10': 1.036231884057971, '2': 1.0}, 'attribute': {'0': 5.470999077399334, 'self_loop': 1.0, '1': 5.555036154556748, '9': 1.56032358648961, '7': 1.9400389925595831, '5': 2.0821946169772256, '8': 1.6468722101772733, '4': 1.819180123816699, '3': 2.377431906614786, '10': 2.1166338582677167, '6': 2.1450151057401814, '2': 2.098076923076923, '11': 1.7037037037037037}}\n"
     ]
    }
   ],
   "source": [
    "print('build', args.dataset, 'knowledge graph from dataset...')\n",
    "kg = KG_based_KG(args, dataset)"
   ]
  },
  {
   "cell_type": "markdown",
   "id": "parallel-representation",
   "metadata": {},
   "source": [
    "build KG from review dataset class"
   ]
  },
  {
   "cell_type": "markdown",
   "id": "dependent-orchestra",
   "metadata": {},
   "source": [
    "save information"
   ]
  },
  {
   "cell_type": "code",
   "execution_count": 7,
   "id": "completed-perth",
   "metadata": {},
   "outputs": [
    {
     "name": "stdout",
     "output_type": "stream",
     "text": [
      "MovieLens-1M_core  save dataset, trn tst label, kg\n"
     ]
    }
   ],
   "source": [
    "print(args.dataset, ' save dataset, trn tst label, kg')\n",
    "save_dataset(args.dataset, dataset)\n",
    "save_labels(args.dataset, trn_label, mode='train')\n",
    "save_labels(args.dataset, tst_label, mode='test')\n",
    "save_kg(args.dataset, kg)"
   ]
  },
  {
   "cell_type": "markdown",
   "id": "nearby-funds",
   "metadata": {},
   "source": [
    "part2 answer covering rate check"
   ]
  },
  {
   "cell_type": "code",
   "execution_count": 8,
   "id": "rural-farming",
   "metadata": {},
   "outputs": [
    {
     "name": "stdout",
     "output_type": "stream",
     "text": [
      "Load embedding: ../data/MovieLens-1M_Core/transe_embed.pkl\n"
     ]
    }
   ],
   "source": [
    "embeds = load_embed(args.dataset)\n",
    "embeds[SELF_LOOP] = (np.zeros(50), 0.0)"
   ]
  },
  {
   "cell_type": "code",
   "execution_count": 9,
   "id": "collected-march",
   "metadata": {},
   "outputs": [],
   "source": [
    "from math import log\n",
    "\n",
    "def evaluate(topk_matches, test_user_products):\n",
    "    \"\"\"Compute metrics for predicted recommendations.\n",
    "    Args:\n",
    "        topk_matches: a list or dict of product ids in ascending order.\n",
    "    \"\"\"\n",
    "    cum_k = 0\n",
    "    invalid_users = []\n",
    "    # Compute metrics\n",
    "    precisions, recalls, ndcgs, hits = [], [], [], []\n",
    "    test_user_idxs = list(test_user_products.keys())\n",
    "    for uid in test_user_idxs:\n",
    "\n",
    "        if uid not in topk_matches:\n",
    "            print('uid not in topk_matches = ',uid)\n",
    "            invalid_users.append(uid)\n",
    "            continue\n",
    "        pred_list, rel_set = topk_matches[uid][::-1], test_user_products[uid]\n",
    "\n",
    "        if len(pred_list) == 0:\n",
    "            cum_k += 1\n",
    "            ndcgs.append(0)\n",
    "            recalls.append(0)\n",
    "            precisions.append(0)\n",
    "            hits.append(0)\n",
    "            continue\n",
    "\n",
    "        dcg = 0.0\n",
    "        hit_num = 0.0\n",
    "        for i in range(len(pred_list)):\n",
    "            if pred_list[i] in rel_set:\n",
    "                dcg += 1. / (log(i + 2) / log(2))\n",
    "                hit_num += 1\n",
    "        # idcg\n",
    "        idcg = 0.0\n",
    "        for i in range(min(len(rel_set), len(pred_list))):\n",
    "            idcg += 1. / (log(i + 2) / log(2))\n",
    "        ndcg = dcg / idcg\n",
    "\n",
    "        recall = hit_num / len(rel_set)\n",
    "\n",
    "        precision = hit_num / len(pred_list)\n",
    "\n",
    "        hit = 1.0 if hit_num > 0.0 else 0.0\n",
    "\n",
    "        ndcgs.append(ndcg)\n",
    "        recalls.append(recall)\n",
    "        precisions.append(precision)\n",
    "        hits.append(hit)\n",
    "\n",
    "    avg_precision = np.mean(precisions) * 100\n",
    "    avg_recall = np.mean(recalls) * 100\n",
    "    avg_ndcg = np.mean(ndcgs) * 100\n",
    "    avg_hit = np.mean(hits) * 100\n",
    "    print('NDCG={:.3f} |  Recall={:.3f} | HR={:.3f} | Precision={:.3f} | Invalid users={}'.format(\n",
    "            avg_ndcg, avg_recall, avg_hit, avg_precision, len(invalid_users)))\n",
    "    print('cum_k == 0 ',  cum_k)\n",
    "    return avg_precision, avg_recall, avg_ndcg, avg_hit, invalid_users, cum_k"
   ]
  },
  {
   "cell_type": "code",
   "execution_count": 10,
   "id": "raised-broadcast",
   "metadata": {},
   "outputs": [],
   "source": [
    "max_acts = 51\n",
    "\n",
    "def get_actions(path, user):\n",
    "    \"\"\"Compute actions for current node.\"\"\"\n",
    "    curr_node_type, curr_node_id = path\n",
    "    actions = [(SELF_LOOP, curr_node_id)]  # self-loop must be included.\n",
    "\n",
    "    relations_nodes = kg(curr_node_type, curr_node_id)\n",
    "    candidate_acts = []  # list of tuples of (relation, node_type, node_id)\n",
    "\n",
    "    for r in relations_nodes:\n",
    "        next_node_ids = relations_nodes[r]\n",
    "        next_node_set = []\n",
    "        for n_id in next_node_ids:\n",
    "            next_node_set.append([dataset.et_idx2ty[n_id],n_id])\n",
    "        next_node_ids = [n_set[1] for n_set in next_node_set]\n",
    "        candidate_acts.extend(zip([r] * len(next_node_ids), next_node_ids))\n",
    "\n",
    "    # (3) If candidate action set is empty, only return self-loop action.\n",
    "    if len(candidate_acts) == 0:\n",
    "        return actions\n",
    "\n",
    "    # (4) If number of available actions is smaller than max_acts, return action sets.\n",
    "    if len(candidate_acts) <= max_acts:\n",
    "        candidate_acts = sorted(candidate_acts, key=lambda x: (x[0], x[1]))\n",
    "        actions.extend(candidate_acts)\n",
    "        return actions\n",
    "\n",
    "    # (5) If there are too many actions, do some deterministic trimming here!\n",
    "    user_embed = embeds[USER][user]\n",
    "    scores = []\n",
    "    for r, next_node_id in candidate_acts:\n",
    "        next_node_type = dataset.et_idx2ty[next_node_id]\n",
    "        if next_node_type == USER:\n",
    "            src_embed = user_embed\n",
    "        elif next_node_type == PRODUCT:\n",
    "            src_embed = user_embed + embeds[PURCHASE][0]\n",
    "        elif next_node_type == WORD:\n",
    "            src_embed = user_embed + embeds[MENTION][0]\n",
    "        else:\n",
    "            src_embed = user_embed + embeds[PURCHASE][0] + embeds[r][0]\n",
    "        score = np.matmul(src_embed, embeds[next_node_type][next_node_id])\n",
    "        scores.append(score)\n",
    "        \n",
    "    candidate_idxs = np.argsort(scores)[-max_acts:]  # choose actions with larger scores\n",
    "    candidate_acts = sorted([candidate_acts[i] for i in candidate_idxs], key=lambda x: (x[0], x[1]))\n",
    "    actions.extend(candidate_acts)\n",
    "    return actions"
   ]
  },
  {
   "cell_type": "code",
   "execution_count": 11,
   "id": "inappropriate-evidence",
   "metadata": {},
   "outputs": [],
   "source": [
    "def ans_cover_rate(step):\n",
    "    anser_cover = {}\n",
    "    for user, trn_item_list in trn_label.items():\n",
    "        total_item = [[USER, user]]\n",
    "        cache = {}\n",
    "        cache[USER] = {}\n",
    "        cache[USER][user] = 1\n",
    "        for _ in range(step):\n",
    "            total_item_tmp = []\n",
    "            for action in total_item:\n",
    "                next_action = get_actions(action, user)\n",
    "\n",
    "                for n_action in next_action:\n",
    "                    curr_node_type, _ = action\n",
    "                    relation, next_node_id = n_action\n",
    "                    if relation == SELF_LOOP: next_node_type = curr_node_type\n",
    "                    else: next_node_type = dataset.et_idx2ty[next_node_id]\n",
    "                    if next_node_type not in cache: cache[next_node_type] = {}\n",
    "                    if next_node_id not in cache[next_node_type]:\n",
    "                        cache[next_node_type][next_node_id] = 1\n",
    "                        total_item_tmp.append([next_node_type, next_node_id])\n",
    "            total_item = total_item_tmp\n",
    "\n",
    "        anser_cover[user] = [it for it in cache['product'] if it not in trn_item_list]\n",
    "\n",
    "    evaluate(anser_cover, tst_label)"
   ]
  },
  {
   "cell_type": "code",
   "execution_count": 12,
   "id": "numerical-savage",
   "metadata": {},
   "outputs": [
    {
     "name": "stdout",
     "output_type": "stream",
     "text": [
      "NDCG=0.000 |  Recall=0.000 | HR=0.000 | Precision=0.000 | Invalid users=0\n",
      "cum_k == 0  5851\n"
     ]
    }
   ],
   "source": [
    "ans_cover_rate(1)"
   ]
  },
  {
   "cell_type": "code",
   "execution_count": 13,
   "id": "passive-frequency",
   "metadata": {},
   "outputs": [
    {
     "name": "stdout",
     "output_type": "stream",
     "text": [
      "NDCG=0.000 |  Recall=0.000 | HR=0.000 | Precision=0.000 | Invalid users=0\n",
      "cum_k == 0  5851\n"
     ]
    }
   ],
   "source": [
    "ans_cover_rate(2)"
   ]
  },
  {
   "cell_type": "code",
   "execution_count": 14,
   "id": "capable-german",
   "metadata": {},
   "outputs": [
    {
     "name": "stdout",
     "output_type": "stream",
     "text": [
      "NDCG=21.241 |  Recall=96.186 | HR=99.419 | Precision=0.809 | Invalid users=0\n",
      "cum_k == 0  0\n"
     ]
    }
   ],
   "source": [
    "ans_cover_rate(3)"
   ]
  },
  {
   "cell_type": "code",
   "execution_count": null,
   "id": "presidential-correspondence",
   "metadata": {},
   "outputs": [],
   "source": []
  },
  {
   "cell_type": "code",
   "execution_count": null,
   "id": "ceramic-suicide",
   "metadata": {},
   "outputs": [],
   "source": []
  }
 ],
 "metadata": {
  "kernelspec": {
   "display_name": "Python 3",
   "language": "python",
   "name": "python3"
  },
  "language_info": {
   "codemirror_mode": {
    "name": "ipython",
    "version": 3
   },
   "file_extension": ".py",
   "mimetype": "text/x-python",
   "name": "python",
   "nbconvert_exporter": "python",
   "pygments_lexer": "ipython3",
   "version": "3.8.5"
  }
 },
 "nbformat": 4,
 "nbformat_minor": 5
}
