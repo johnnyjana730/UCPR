{
 "cells": [
  {
   "cell_type": "code",
   "execution_count": 1,
   "id": "demonstrated-lancaster",
   "metadata": {},
   "outputs": [],
   "source": [
    "from __future__ import absolute_import, division, print_function\n",
    "\n",
    "import os\n",
    "import pickle\n",
    "import gzip\n",
    "\n",
    "import sys\n",
    "sys.path.insert(0,'..')\n",
    "\n",
    "from utils import *\n",
    "from dataset import RW_based_dataset, KG_based_dataset\n",
    "from knowledge_graph import RW_based_KG, KG_based_KG\n",
    "import pandas as pd"
   ]
  },
  {
   "cell_type": "code",
   "execution_count": 2,
   "id": "brazilian-monitor",
   "metadata": {},
   "outputs": [],
   "source": [
    "class args_class:\n",
    "    def __init__(self):\n",
    "        self.dataset = CELL_CORE\n",
    "        self.att_th_lower = 0\n",
    "        self.att_th_upper = 3000\n",
    "        self.user_core_th = 6\n",
    "        self.user_top_k = 6000\n",
    "        \n",
    "args = args_class()\n",
    "        \n",
    "if not os.path.isdir(DATA_DIR[args.dataset]):\n",
    "    os.makedirs(DATA_DIR[args.dataset])"
   ]
  },
  {
   "cell_type": "markdown",
   "id": "settled-nigeria",
   "metadata": {},
   "source": [
    "load review to dataset class"
   ]
  },
  {
   "cell_type": "code",
   "execution_count": 3,
   "id": "swedish-curtis",
   "metadata": {},
   "outputs": [
    {
     "name": "stdout",
     "output_type": "stream",
     "text": [
      "Load cell_core dataset from file...\n",
      "load entities \n",
      "user enti voc =  ['A21O5ULBAZD8SZ', 'A2U1WQYFE8E63W', 'A29C6EN5ADR5PD', 'ADSQBJ07R4B9B', 'A3KFXTFDSLOL79', 'A24QA99TB8OTA7', 'A38Z4B8AU37IMR', 'A7P7OP5UW6APV', 'A1DE5SY7SITVIU', 'AGJCRK8QR0UO0']\n",
      "product enti voc =  ['B00B4O7GIA', 'B003ES5ATQ', 'B007Y8VJP6', 'B008M9IS8M', 'B00BJBWYMQ', 'B00GH0JXAK', 'B005FVNHBI', 'B000XQGJUG', 'B006QY6VXE', 'B007M41GY6']\n",
      "word enti voc =  ['', 'circuitry', 'hanging', 'woody', 'elegantthe', 'opener', 'crossbar', 'stipulate', 'pigment', 'uncoordinated']\n",
      "related_product enti voc =  ['B00CJFXXEE', 'B0054EBOIO', 'B00CJFWXYA', 'B0087Z7S96', 'B007AMR8TW', 'B006G7Z6VY', 'B00FJARRRK', 'B00BLIO9W0', 'B00BP45E5Q', 'B00AEGT81W']\n",
      "brand enti voc =  ['Unknown', 'SANOXY', 'ACCESSORYSQUAD', 'BlackBerry', 'Samsung', '', 'Asecshop', 'Generic', 'A Days Tech', 'HTC']\n",
      "category enti voc =  ['Cell Phones & Accessories', 'Cases', 'Basic Cases', 'Accessories', 'Batteries', 'Battery Charger Cases', 'External Battery Packs', 'Chargers', 'Car Chargers', 'Internal Batteries']\n",
      "Load produced_by of size 10429\n",
      "produced_by et_vocab =  ['Unknown', 'SANOXY', 'ACCESSORYSQUAD', 'BlackBerry', 'Samsung', '', 'Asecshop', 'Generic', 'A Days Tech', 'HTC'] data =  [[], [], [4], [519], [760], [], [], [], [5], [0]]\n",
      "Load belongs_to of size 10429\n",
      "belongs_to et_vocab =  ['Cell Phones & Accessories', 'Cases', 'Basic Cases', 'Accessories', 'Batteries', 'Battery Charger Cases', 'External Battery Packs', 'Chargers', 'Car Chargers', 'Internal Batteries'] data =  [[0, 1, 2, 3, 4, 5], [0, 24, 3], [0, 9, 3, 4], [0, 1, 2], [0, 73, 3], [0, 3, 4, 6], [0, 35, 36, 12, 14, 3, 23], [0, 59, 3, 30], [0, 1, 2], [0, 1, 2]]\n",
      "Load also_bought of size 10429\n",
      "also_bought et_vocab =  ['B00CJFXXEE', 'B0054EBOIO', 'B00CJFWXYA', 'B0087Z7S96', 'B007AMR8TW', 'B006G7Z6VY', 'B00FJARRRK', 'B00BLIO9W0', 'B00BP45E5Q', 'B00AEGT81W'] data =  [[6493, 104, 25367, 78453, 6487, 68915, 48526, 68917, 78454, 24268, 65473, 68948, 47519, 5886, 78455, 549, 23965, 78456, 9171, 61757, 2939, 9164, 30085, 12369, 68106, 5666, 68942, 7119, 3366, 6991, 12455, 23986, 20747, 68952, 78457, 23987, 997, 14955, 78458, 7267, 78459, 78460, 7004, 2616, 12511, 78461], [], [883, 400, 32220, 8016, 50678, 32215, 390, 27486, 397, 368, 51117, 30600, 46965, 54212, 376, 55311, 23362, 40277, 40288, 14995, 21449, 399, 540, 6301, 107, 407, 40275, 32212, 40085, 40278, 9657, 17906, 40276, 40282, 443, 23360, 40284, 40281, 881, 120, 369, 51118, 40280, 911, 11094, 9003, 387, 20474, 396, 40283, 365, 55312, 4711, 27095, 9655, 378, 55095, 19373, 421, 6089, 377, 497, 529, 48522, 16440, 519, 7938, 24072, 23359, 20514, 913, 634, 2622, 635, 54574, 26598, 7593, 30854, 23354, 393, 23100, 118, 896, 23096, 55313, 46961, 912, 40286, 55314, 17642, 22328, 21133, 48814, 21448, 17381, 36725, 11797, 417, 32506, 4675], [25701, 44214, 55960, 55962, 55963, 57360, 58225, 55954, 57915, 55958, 57798, 58328, 58264, 57350, 44228, 58320, 57758, 55512, 407, 58273, 24072, 44212, 57368, 57495, 58267, 58317, 58572, 58316, 55975, 58327, 56140, 57499, 58276, 56539, 58313, 44210, 58318, 902, 58314, 55974, 28086, 44221, 58278, 58571, 58579, 57453, 58344, 58321, 44359, 57454, 57497, 633, 9008, 58573, 58979, 61885, 37570, 932, 19162, 58272, 58334, 55506, 58324, 57700, 51587, 378, 58211, 55957, 57805, 58281, 57362, 24530, 59315, 60077, 49123, 44217, 25699, 42586, 55966, 58337, 60090, 30601, 58229, 55948, 60078, 61886, 58217, 59310, 57823, 53872, 58690, 44215, 44236, 32610, 31364, 12926, 57493, 56155], [9957, 12508, 24696, 12292, 9956, 12298, 36971, 17793, 79254, 36963, 16488, 7545, 9990, 45691, 11324, 9989, 36012, 28031, 33200, 15060, 11303, 14872, 9984, 28036, 45679, 9966, 11318, 17814, 25025, 9929, 17817, 9930, 12280, 32568, 30936, 5919, 21736, 12274, 28890, 9959, 17781, 11311, 10258, 12935, 11321, 23485, 79865, 14881, 12290, 15057, 17785, 22558, 9927, 15041, 7534, 15050, 32498, 9937, 15049, 20327, 11323, 29317, 9949, 17050, 19262, 20082, 38800, 17780, 9970, 12279, 9996, 9973, 15039, 21898, 79866, 9995, 17842, 5959, 28899, 74336, 14882, 14876, 79867, 17838, 11800, 9940, 15138, 9979, 79654, 56392, 11331, 9967, 55309, 39392, 23243, 29319, 14889, 11296, 22511, 9980], [6980, 6989, 6981, 398, 6994, 7000, 41082, 8132, 12694, 6992, 6990, 78822, 6985, 6991, 22058, 2046, 41081, 52290, 5823, 21272, 65424, 5679, 23820, 1572, 5886, 1980, 15882, 2939, 8150, 2930, 19315, 38806, 13543, 88517, 3453, 2922, 83466, 95608, 70714, 39257, 2934, 1075, 11921, 4507, 44687, 7780, 3366, 997, 14947, 95609, 38579, 5593, 1613, 70708, 7226], [5578, 1771, 14086, 1188, 13476, 14084, 1764, 13462, 3085, 38633, 3088, 13465, 1185, 3339, 8879, 17031, 13461, 38634, 22206, 22986, 12422, 3079, 14074, 1176, 2339, 1174, 22985, 1197, 2320, 4850, 2044, 4579, 12431, 3082, 4859, 26953, 38635, 38636, 3076, 3788, 22202, 13447, 38637, 5276, 38638, 38639, 2336, 3075, 18433, 1193, 38640, 3063, 2205, 10738, 1936, 22205], [], [5864, 5839, 5382, 5381, 8249, 8234, 5369, 5371, 5849, 8238, 5869, 8688, 5614, 8248, 8227, 8693, 8229, 19603, 8232, 8701, 8250, 5857, 8687, 8718, 21039, 39, 5835, 21414, 13094, 48437, 5366, 5109, 5615, 569, 5866, 8700, 8245, 4112, 21036, 5378, 5387, 26047, 48438, 5838, 7920, 8703, 48439, 19692, 10000, 5368, 8706, 5867, 935, 5370, 602, 17145, 19599, 5367, 19845, 12908, 5841, 48440, 8696, 1939, 19341, 5859, 19412, 8235, 17830, 48441, 19149, 19605, 5891, 28594, 10005, 9999, 7919, 611, 8683, 13093, 7527, 8224, 7498, 48442, 18430, 14455, 14461], [19339, 19658, 20196, 12854, 12853, 19337, 19667, 15846, 19666, 19444, 19676, 19659, 19456, 19343, 27011, 19681, 19404, 12868, 20299, 14530, 19674, 52, 19425, 569, 19673, 19664, 19331, 19692, 39, 19685, 19671, 5871, 19452, 20197, 19665, 20327, 26995, 16956, 19003, 19669, 19930, 14455, 18613, 28449, 45794, 91, 24345, 20597, 22750, 20189, 17050, 19923, 5866, 20302, 12844, 19672, 21699, 5857, 13958, 30934, 20194, 12508, 5867, 19432, 19689, 36883, 5895, 19451, 33659, 20224, 52416, 20353, 4322, 32295, 19661, 21532, 28646, 19680, 18616, 5859, 7139, 19384, 14533, 10007, 5856, 20537, 19910, 19663, 14005, 17829, 18943, 19981, 8703, 11152, 17781, 19660, 10000, 29717, 41220]]\n",
      "Load also_viewed of size 10429\n",
      "also_viewed et_vocab =  ['B00CJFXXEE', 'B0054EBOIO', 'B00CJFWXYA', 'B0087Z7S96', 'B007AMR8TW', 'B006G7Z6VY', 'B00FJARRRK', 'B00BLIO9W0', 'B00BP45E5Q', 'B00AEGT81W'] data =  [[], [1234, 1229, 1849, 1878, 1236, 1882, 1906, 1225, 5409, 1894, 2151, 1892, 1227, 1854], [], [], [], [], [], [3854, 2628, 2859, 2867, 865, 3853, 6572, 6574, 5330, 864, 3865], [], []]\n",
      "Load bought_together of size 10429\n",
      "bought_together et_vocab =  ['B00CJFXXEE', 'B0054EBOIO', 'B00CJFWXYA', 'B0087Z7S96', 'B007AMR8TW', 'B006G7Z6VY', 'B00FJARRRK', 'B00BLIO9W0', 'B00BP45E5Q', 'B00AEGT81W'] data =  [[], [], [883], [407], [9957], [6980], [], [], [5381], [19658, 19339]]\n",
      "load review \n",
      "review tst =  (4278, 4651, [17621, 17885, 1804, 13212, 18461, 18276, 4004, 7203, 21569, 14266, 7044, 7125, 7044, 21811, 10484, 17885, 10350, 7044, 2749, 10484, 7203, 21069, 7044, 21972, 7347, 17774, 10350, 8292, 13017, 20342, 7038, 658, 9895, 6890])\n",
      "review tst =  (12550, 4651, [5903, 5903, 5903, 13212, 21972, 11639, 10350, 14276, 9895, 21069, 13561, 11660, 17774, 8292, 1308, 13170, 10923, 481, 11660, 21762, 10350, 1308, 242, 6995, 10484, 5794, 15320, 18928, 1845, 13017, 18847, 14873, 18686, 481, 1845, 17885, 19313])\n",
      "review tst =  (21407, 4651, [8832, 14391, 19982, 8617, 17885, 17139, 10350, 12915, 8617, 1123, 6243, 4301, 8292, 2395, 13212, 12460, 22422, 7044, 8899, 18928, 17885, 3027, 10350, 10540, 18928, 21137, 16503, 13547, 8292, 8430, 18435, 481, 15582, 15994, 1829, 18928, 20549, 3027, 6995, 4655, 10060, 5129, 11926, 3245, 6995, 7793, 7044, 19983, 6995, 21579, 658, 481])\n",
      "review tst =  (24053, 4651, [8832, 13212, 14276, 10923, 7203, 2692, 19209, 17085, 9895, 12668, 10350, 8292, 19059, 4004, 7038, 8292, 4121, 19639, 7038, 3396, 13938, 1377, 7203, 13150])\n",
      "review tst =  (2762, 4651, [5717, 14507, 19579, 11401, 19814, 6200, 4616, 6995, 9773, 21579, 13483, 10350, 15994, 8832, 5787, 2130, 17357, 8292, 9953, 7038, 9418, 15994, 17885, 4713, 21132])\n",
      "Load review of size 150048\n",
      "self.core_user_list =  6548\n"
     ]
    }
   ],
   "source": [
    "print('Load', args.dataset, 'dataset from file...')\n",
    "dataset = RW_based_dataset(args, DATA_DIR[args.dataset] + '/review_data/')"
   ]
  },
  {
   "cell_type": "markdown",
   "id": "scenic-diagnosis",
   "metadata": {},
   "source": [
    "generate train and test label by filtered users"
   ]
  },
  {
   "cell_type": "code",
   "execution_count": 4,
   "id": "practical-province",
   "metadata": {},
   "outputs": [],
   "source": [
    "def labels_filter(core_user_list, dataset, mode='train'):\n",
    "\n",
    "    review_file = '{}/{}/review_{}.txt.gz'.format(DATA_DIR[dataset], 'review_data', mode)\n",
    "    user_products = {}  # {uid: [pid,...], ...}\n",
    "\n",
    "    print('len(core_user_list) = ', len(core_user_list))\n",
    "\n",
    "    count = 0\n",
    "    with gzip.open(review_file, 'r') as f:\n",
    "        for line in f:\n",
    "\n",
    "            line = line.decode('utf-8').strip()\n",
    "            arr = line.split('\\t')\n",
    "            user_idx = int(arr[0])\n",
    "            product_idx = int(arr[1])\n",
    "\n",
    "            if user_idx in core_user_list:\n",
    "                if user_idx not in user_products:\n",
    "                    user_products[user_idx] = []\n",
    "                user_products[user_idx].append(product_idx)\n",
    "                count += 1\n",
    "\n",
    "    print(mode + ', avg user product = ', count/len(user_products))\n",
    "\n",
    "    return user_products"
   ]
  },
  {
   "cell_type": "code",
   "execution_count": 5,
   "id": "japanese-acceptance",
   "metadata": {},
   "outputs": [
    {
     "name": "stdout",
     "output_type": "stream",
     "text": [
      "generate filter label cell_core knowledge graph from dataset...\n",
      "len(core_user_list) =  6548\n",
      "train, avg user product =  8.460445937690897\n",
      "len(core_user_list) =  6548\n",
      "test, avg user product =  3.0041233964569334\n"
     ]
    }
   ],
   "source": [
    "print('generate filter label', args.dataset, 'knowledge graph from dataset...')\n",
    "core_user_list = dataset.core_user_list\n",
    "trn_label = labels_filter(core_user_list, args.dataset, 'train')\n",
    "tst_label = labels_filter(core_user_list, args.dataset, 'test')"
   ]
  },
  {
   "cell_type": "markdown",
   "id": "thirty-things",
   "metadata": {},
   "source": [
    "build KG from review dataset class"
   ]
  },
  {
   "cell_type": "code",
   "execution_count": 6,
   "id": "affiliated-occasions",
   "metadata": {},
   "outputs": [
    {
     "name": "stdout",
     "output_type": "stream",
     "text": [
      "build cell_core knowledge graph from dataset...\n",
      "Load reviews...\n",
      "Load knowledge produced_by...\n",
      "Load knowledge belongs_to...\n",
      "Load knowledge also_bought...\n",
      "Load knowledge also_viewed...\n",
      "Load knowledge bought_together...\n",
      "Load entities...\n",
      "Total 163249 nodes.\n",
      "Load reviews...\n",
      "Load knowledge produced_by...\n",
      "Load knowledge belongs_to...\n",
      "Load knowledge also_bought...\n",
      "Load knowledge also_viewed...\n",
      "Load knowledge bought_together...\n",
      "Remove duplicates...\n",
      "relation =  {'purchase': [['user', 4278, 'purchase', 4651], ['user', 12550, 'purchase', 4651], ['user', 21407, 'purchase', 4651], ['user', 24053, 'purchase', 4651], ['user', 2762, 'purchase', 4651], ['user', 17759, 'purchase', 8099], ['user', 27518, 'purchase', 8099], ['user', 7441, 'purchase', 8099], ['user', 26377, 'purchase', 8099], ['user', 24270, 'purchase', 8099], ['user', 10409, 'purchase', 8099], ['user', 10342, 'purchase', 8099], ['user', 2178, 'purchase', 8099], ['user', 10493, 'purchase', 10203], ['user', 12532, 'purchase', 10203], ['user', 9034, 'purchase', 10203], ['user', 14369, 'purchase', 10203], ['user', 13059, 'purchase', 10203], ['user', 2942, 'purchase', 10203], ['user', 23991, 'purchase', 10203], ['user', 23433, 'purchase', 10203], ['user', 12056, 'purchase', 10203], ['user', 15228, 'purchase', 10203], ['user', 8758, 'purchase', 10203], ['user', 12039, 'purchase', 10203], ['user', 23195, 'purchase', 10203], ['user', 18518, 'purchase', 10203], ['user', 26988, 'purchase', 10203], ['user', 22098, 'purchase', 10203], ['user', 12465, 'purchase', 10203]], 'mentions': [['user', 4278, 'mentions', 18461], ['user', 4278, 'mentions', 21811], ['user', 4278, 'mentions', 7347], ['user', 4278, 'mentions', 2749], ['user', 4278, 'mentions', 6890], ['user', 4278, 'mentions', 17774], ['user', 4278, 'mentions', 20342], ['user', 12550, 'mentions', 14873], ['user', 12550, 'mentions', 1845], ['user', 12550, 'mentions', 17774], ['user', 21407, 'mentions', 19982], ['user', 21407, 'mentions', 19983], ['user', 21407, 'mentions', 21137], ['user', 21407, 'mentions', 10540], ['user', 21407, 'mentions', 4655], ['user', 21407, 'mentions', 6243], ['user', 24053, 'mentions', 12668], ['user', 2762, 'mentions', 4616], ['user', 2762, 'mentions', 21132], ['user', 2762, 'mentions', 13483], ['user', 2762, 'mentions', 2130], ['user', 17759, 'mentions', 9222], ['user', 17759, 'mentions', 18108], ['user', 27518, 'mentions', 10779], ['user', 27518, 'mentions', 20387], ['user', 27518, 'mentions', 3773], ['user', 27518, 'mentions', 13000], ['user', 27518, 'mentions', 11595], ['user', 27518, 'mentions', 16215], ['user', 27518, 'mentions', 21848]], 'described_as': [['product', 4651, 'described_as', 18461], ['product', 4651, 'described_as', 21811], ['product', 4651, 'described_as', 7347], ['product', 4651, 'described_as', 2749], ['product', 4651, 'described_as', 6890], ['product', 4651, 'described_as', 17774], ['product', 4651, 'described_as', 20342], ['product', 4651, 'described_as', 14873], ['product', 4651, 'described_as', 1845], ['product', 4651, 'described_as', 17774], ['product', 4651, 'described_as', 19982], ['product', 4651, 'described_as', 19983], ['product', 4651, 'described_as', 21137], ['product', 4651, 'described_as', 10540], ['product', 4651, 'described_as', 4655], ['product', 4651, 'described_as', 6243], ['product', 4651, 'described_as', 12668], ['product', 4651, 'described_as', 4616], ['product', 4651, 'described_as', 21132], ['product', 4651, 'described_as', 13483], ['product', 4651, 'described_as', 2130], ['product', 8099, 'described_as', 9222], ['product', 8099, 'described_as', 18108], ['product', 8099, 'described_as', 10779], ['product', 8099, 'described_as', 20387], ['product', 8099, 'described_as', 3773], ['product', 8099, 'described_as', 13000], ['product', 8099, 'described_as', 11595], ['product', 8099, 'described_as', 16215], ['product', 8099, 'described_as', 21848]], 'produced_by': [['product', 2, 'produced_by', 4], ['product', 3, 'produced_by', 519], ['product', 4, 'produced_by', 760], ['product', 8, 'produced_by', 5], ['product', 9, 'produced_by', 0], ['product', 11, 'produced_by', 7], ['product', 14, 'produced_by', 3], ['product', 15, 'produced_by', 7], ['product', 17, 'produced_by', 20], ['product', 19, 'produced_by', 31], ['product', 22, 'produced_by', 7], ['product', 25, 'produced_by', 7], ['product', 26, 'produced_by', 7], ['product', 31, 'produced_by', 4], ['product', 38, 'produced_by', 130], ['product', 41, 'produced_by', 7], ['product', 43, 'produced_by', 31], ['product', 44, 'produced_by', 33], ['product', 45, 'produced_by', 896], ['product', 46, 'produced_by', 14], ['product', 47, 'produced_by', 5], ['product', 50, 'produced_by', 7], ['product', 52, 'produced_by', 98], ['product', 54, 'produced_by', 842], ['product', 59, 'produced_by', 625], ['product', 61, 'produced_by', 0], ['product', 62, 'produced_by', 1], ['product', 64, 'produced_by', 3], ['product', 65, 'produced_by', 310], ['product', 66, 'produced_by', 118]], 'belongs_to': [['product', 0, 'belongs_to', 4], ['product', 0, 'belongs_to', 5], ['product', 1, 'belongs_to', 24], ['product', 2, 'belongs_to', 9], ['product', 2, 'belongs_to', 4], ['product', 4, 'belongs_to', 73], ['product', 5, 'belongs_to', 4], ['product', 5, 'belongs_to', 6], ['product', 6, 'belongs_to', 35], ['product', 6, 'belongs_to', 36], ['product', 6, 'belongs_to', 12], ['product', 6, 'belongs_to', 14], ['product', 6, 'belongs_to', 23], ['product', 7, 'belongs_to', 59], ['product', 7, 'belongs_to', 30], ['product', 13, 'belongs_to', 60], ['product', 14, 'belongs_to', 9], ['product', 14, 'belongs_to', 4], ['product', 15, 'belongs_to', 11], ['product', 16, 'belongs_to', 49], ['product', 17, 'belongs_to', 24], ['product', 20, 'belongs_to', 41], ['product', 21, 'belongs_to', 41], ['product', 22, 'belongs_to', 41], ['product', 24, 'belongs_to', 41], ['product', 32, 'belongs_to', 64], ['product', 33, 'belongs_to', 11], ['product', 35, 'belongs_to', 64], ['product', 35, 'belongs_to', 14], ['product', 35, 'belongs_to', 15]], 'also_bought': [['product', 0, 'also_bought', 30085], ['product', 0, 'also_bought', 68106], ['product', 0, 'also_bought', 20747], ['product', 0, 'also_bought', 48526], ['product', 0, 'also_bought', 25367], ['product', 0, 'also_bought', 23965], ['product', 0, 'also_bought', 47519], ['product', 0, 'also_bought', 5666], ['product', 0, 'also_bought', 549], ['product', 0, 'also_bought', 3366], ['product', 0, 'also_bought', 12455], ['product', 0, 'also_bought', 23986], ['product', 0, 'also_bought', 68915], ['product', 0, 'also_bought', 23987], ['product', 0, 'also_bought', 68917], ['product', 0, 'also_bought', 78459], ['product', 0, 'also_bought', 2616], ['product', 0, 'also_bought', 61757], ['product', 0, 'also_bought', 65473], ['product', 0, 'also_bought', 24268], ['product', 0, 'also_bought', 9164], ['product', 0, 'also_bought', 68942], ['product', 0, 'also_bought', 7119], ['product', 0, 'also_bought', 6991], ['product', 0, 'also_bought', 12369], ['product', 0, 'also_bought', 9171], ['product', 0, 'also_bought', 68948], ['product', 0, 'also_bought', 6487], ['product', 0, 'also_bought', 68952], ['product', 0, 'also_bought', 7004]], 'also_viewed': [['product', 1, 'also_viewed', 5409], ['product', 1, 'also_viewed', 1892], ['product', 1, 'also_viewed', 1894], ['product', 1, 'also_viewed', 2151], ['product', 1, 'also_viewed', 1225], ['product', 1, 'also_viewed', 1227], ['product', 1, 'also_viewed', 1229], ['product', 1, 'also_viewed', 1234], ['product', 1, 'also_viewed', 1906], ['product', 1, 'also_viewed', 1236], ['product', 1, 'also_viewed', 1878], ['product', 1, 'also_viewed', 1849], ['product', 1, 'also_viewed', 1882], ['product', 1, 'also_viewed', 1854], ['product', 7, 'also_viewed', 864], ['product', 7, 'also_viewed', 865], ['product', 7, 'also_viewed', 2628], ['product', 7, 'also_viewed', 2859], ['product', 7, 'also_viewed', 6572], ['product', 7, 'also_viewed', 3853], ['product', 7, 'also_viewed', 3854], ['product', 7, 'also_viewed', 6574], ['product', 7, 'also_viewed', 5330], ['product', 7, 'also_viewed', 2867], ['product', 7, 'also_viewed', 3865], ['product', 11, 'also_viewed', 9991], ['product', 11, 'also_viewed', 21736], ['product', 11, 'also_viewed', 44200], ['product', 11, 'also_viewed', 9928], ['product', 11, 'also_viewed', 15146]], 'bought_together': [['product', 2, 'bought_together', 883], ['product', 3, 'bought_together', 407], ['product', 4, 'bought_together', 9957], ['product', 5, 'bought_together', 6980], ['product', 8, 'bought_together', 5381], ['product', 9, 'bought_together', 19658], ['product', 9, 'bought_together', 19339], ['product', 10, 'bought_together', 15817], ['product', 11, 'bought_together', 11324], ['product', 14, 'bought_together', 3688], ['product', 14, 'bought_together', 343], ['product', 15, 'bought_together', 18574], ['product', 16, 'bought_together', 4653], ['product', 19, 'bought_together', 5109], ['product', 22, 'bought_together', 17340], ['product', 24, 'bought_together', 51093], ['product', 25, 'bought_together', 424], ['product', 25, 'bought_together', 419], ['product', 26, 'bought_together', 39], ['product', 27, 'bought_together', 31049], ['product', 28, 'bought_together', 49121], ['product', 28, 'bought_together', 407], ['product', 31, 'bought_together', 23107], ['product', 34, 'bought_together', 902], ['product', 34, 'bought_together', 407], ['product', 35, 'bought_together', 29664], ['product', 36, 'bought_together', 2533], ['product', 38, 'bought_together', 213], ['product', 40, 'bought_together', 2710], ['product', 40, 'bought_together', 2735]]}\n",
      "relation count =  {'purchase': 300096, 'mentions': 2735884, 'described_as': 2735884, 'produced_by': 10836, 'belongs_to': 22434, 'also_bought': 1179008, 'also_viewed': 25860, 'bought_together': 16888}\n",
      "rela avg link number =  {'user': {'purchase': 5.382115570859787, 'mentions': 45.563614189892036}, 'product': {'purchase': 14.388952819332566, 'described_as': 102.96902570003836, 'belongs_to': 1.8449013157894736, 'also_bought': 63.102547634339544, 'also_viewed': 10.874684608915056, 'produced_by': 1.0, 'bought_together': 1.3628147191736604}, 'word': {'mentions': 58.11721645239511, 'described_as': 49.12664135059706}, 'related_product': {'also_bought': 6.6392314536383195, 'also_viewed': 2.93064369900272, 'bought_together': 4.077257363592468}, 'brand': {'produced_by': 5.673298429319372}, 'category': {'belongs_to': 55.52970297029703}}\n"
     ]
    }
   ],
   "source": [
    "print('build', args.dataset, 'knowledge graph from dataset...')\n",
    "kg = RW_based_KG(args, dataset)"
   ]
  },
  {
   "cell_type": "markdown",
   "id": "inclusive-unemployment",
   "metadata": {},
   "source": [
    "save information"
   ]
  },
  {
   "cell_type": "code",
   "execution_count": 7,
   "id": "italian-redhead",
   "metadata": {},
   "outputs": [
    {
     "name": "stdout",
     "output_type": "stream",
     "text": [
      "cell_core  save dataset, trn tst label, kg\n"
     ]
    }
   ],
   "source": [
    "print(args.dataset, ' save dataset, trn tst label, kg')\n",
    "save_dataset(args.dataset, dataset)\n",
    "save_labels(args.dataset, trn_label, mode='train')\n",
    "save_labels(args.dataset, tst_label, mode='test')\n",
    "save_kg(args.dataset, kg)"
   ]
  },
  {
   "cell_type": "markdown",
   "id": "controlled-grave",
   "metadata": {},
   "source": [
    "part2 answer covering rate check"
   ]
  },
  {
   "cell_type": "code",
   "execution_count": null,
   "id": "billion-moses",
   "metadata": {},
   "outputs": [],
   "source": []
  },
  {
   "cell_type": "code",
   "execution_count": 8,
   "id": "twenty-packing",
   "metadata": {},
   "outputs": [
    {
     "name": "stdout",
     "output_type": "stream",
     "text": [
      "Load embedding: ../data/Amazon_Cellphones_Core/transe_embed.pkl\n"
     ]
    }
   ],
   "source": [
    "embeds = load_embed(args.dataset)"
   ]
  },
  {
   "cell_type": "code",
   "execution_count": 9,
   "id": "expressed-blade",
   "metadata": {},
   "outputs": [],
   "source": [
    "from math import log\n",
    "\n",
    "def evaluate(topk_matches, test_user_products):\n",
    "    \"\"\"Compute metrics for predicted recommendations.\n",
    "    Args:\n",
    "        topk_matches: a list or dict of product ids in ascending order.\n",
    "    \"\"\"\n",
    "    cum_k = 0\n",
    "    invalid_users = []\n",
    "    # Compute metrics\n",
    "    precisions, recalls, ndcgs, hits = [], [], [], []\n",
    "    test_user_idxs = list(test_user_products.keys())\n",
    "    for uid in test_user_idxs:\n",
    "\n",
    "        if uid not in topk_matches:\n",
    "            print('uid not in topk_matches = ',uid)\n",
    "            invalid_users.append(uid)\n",
    "            continue\n",
    "        pred_list, rel_set = topk_matches[uid][::-1], test_user_products[uid]\n",
    "\n",
    "        if len(pred_list) == 0:\n",
    "            cum_k += 1\n",
    "            ndcgs.append(0)\n",
    "            recalls.append(0)\n",
    "            precisions.append(0)\n",
    "            hits.append(0)\n",
    "            continue\n",
    "\n",
    "        dcg = 0.0\n",
    "        hit_num = 0.0\n",
    "        for i in range(len(pred_list)):\n",
    "            if pred_list[i] in rel_set:\n",
    "                dcg += 1. / (log(i + 2) / log(2))\n",
    "                hit_num += 1\n",
    "        # idcg\n",
    "        idcg = 0.0\n",
    "        for i in range(min(len(rel_set), len(pred_list))):\n",
    "            idcg += 1. / (log(i + 2) / log(2))\n",
    "        ndcg = dcg / idcg\n",
    "\n",
    "        recall = hit_num / len(rel_set)\n",
    "\n",
    "        precision = hit_num / len(pred_list)\n",
    "\n",
    "        hit = 1.0 if hit_num > 0.0 else 0.0\n",
    "\n",
    "        ndcgs.append(ndcg)\n",
    "        recalls.append(recall)\n",
    "        precisions.append(precision)\n",
    "        hits.append(hit)\n",
    "\n",
    "    avg_precision = np.mean(precisions) * 100\n",
    "    avg_recall = np.mean(recalls) * 100\n",
    "    avg_ndcg = np.mean(ndcgs) * 100\n",
    "    avg_hit = np.mean(hits) * 100\n",
    "    print('NDCG={:.3f} |  Recall={:.3f} | HR={:.3f} | Precision={:.3f} | Invalid users={}'.format(\n",
    "            avg_ndcg, avg_recall, avg_hit, avg_precision, len(invalid_users)))\n",
    "    print('cum_k == 0 ',  cum_k)\n",
    "    return avg_precision, avg_recall, avg_ndcg, avg_hit, invalid_users, cum_k"
   ]
  },
  {
   "cell_type": "code",
   "execution_count": 10,
   "id": "falling-boundary",
   "metadata": {},
   "outputs": [],
   "source": [
    "max_acts = 51\n",
    "\n",
    "def get_actions(path, user):\n",
    "    \"\"\"Compute actions for current node.\"\"\"\n",
    "    curr_node_type, curr_node_id = path\n",
    "    actions = [(SELF_LOOP, curr_node_id)]  # self-loop must be included.\n",
    "\n",
    "    relations_nodes = kg(curr_node_type, curr_node_id)\n",
    "    candidate_acts = []  # list of tuples of (relation, node_type, node_id)\n",
    "\n",
    "    for r in relations_nodes:\n",
    "        next_node_type = KG_RELATION[curr_node_type][r]\n",
    "        next_node_ids = relations_nodes[r]\n",
    "        next_node_ids = [n for n in next_node_ids]  # filter\n",
    "        candidate_acts.extend(zip([r] * len(next_node_ids), next_node_ids))\n",
    "\n",
    "    # (3) If candidate action set is empty, only return self-loop action.\n",
    "    if len(candidate_acts) == 0:\n",
    "        actions = [(SELF_LOOP, curr_node_id)]\n",
    "        return actions\n",
    "\n",
    "    # (4) If number of available actions is smaller than max_acts, return action sets.\n",
    "    if len(candidate_acts) <= max_acts:\n",
    "        candidate_acts = sorted(candidate_acts, key=lambda x: (x[0], x[1]))\n",
    "        actions.extend(candidate_acts)\n",
    "        return actions\n",
    "\n",
    "    # (5) If there are too many actions, do some deterministic trimming here!\n",
    "    user_embed = embeds[USER][user]\n",
    "    scores = []\n",
    "    for r, next_node_id in candidate_acts:\n",
    "        next_node_type = KG_RELATION[curr_node_type][r]\n",
    "        if next_node_type == USER:\n",
    "            src_embed = user_embed\n",
    "        elif next_node_type == PRODUCT:\n",
    "            src_embed = user_embed + embeds[PURCHASE][0]\n",
    "        elif next_node_type == WORD:\n",
    "            src_embed = user_embed + embeds[MENTION][0]\n",
    "        else:\n",
    "            src_embed = user_embed + embeds[PURCHASE][0] + embeds[r][0]\n",
    "        score = np.matmul(src_embed, embeds[next_node_type][next_node_id])\n",
    "        scores.append(score)\n",
    "        \n",
    "    candidate_idxs = np.argsort(scores)[-max_acts:]  # choose actions with larger scores\n",
    "    candidate_acts = sorted([candidate_acts[i] for i in candidate_idxs], key=lambda x: (x[0], x[1]))\n",
    "    actions.extend(candidate_acts)\n",
    "    return actions"
   ]
  },
  {
   "cell_type": "code",
   "execution_count": 15,
   "id": "secret-place",
   "metadata": {},
   "outputs": [],
   "source": [
    "def ans_cover_rate(step):\n",
    "    anser_cover = {}\n",
    "    for user, trn_item_list in trn_label.items():\n",
    "        total_item = [[USER, user]]\n",
    "        cache = {}\n",
    "        cache[USER] = {}\n",
    "        cache[USER][user] = 1\n",
    "        for _ in range(step):\n",
    "            total_item_tmp = []\n",
    "            for action in total_item:\n",
    "                next_action = get_actions(action, user)\n",
    "\n",
    "                for n_action in next_action:\n",
    "                    curr_node_type, _ = action\n",
    "                    relation, next_node_id = n_action\n",
    "                    if relation == SELF_LOOP: next_node_type = curr_node_type\n",
    "                    else: next_node_type = KG_RELATION[curr_node_type][relation]\n",
    "                    if next_node_type not in cache: cache[next_node_type] = {}\n",
    "                    if next_node_id not in cache[next_node_type]:\n",
    "                        cache[next_node_type][next_node_id] = 1\n",
    "                        total_item_tmp.append([next_node_type, next_node_id])\n",
    "            total_item = total_item_tmp\n",
    "            \n",
    "        if 'product' in cache:\n",
    "            anser_cover[user] = [it for it in cache['product'] if it not in trn_item_list]\n",
    "            \n",
    "    evaluate(anser_cover, tst_label)"
   ]
  },
  {
   "cell_type": "code",
   "execution_count": 16,
   "id": "unlimited-yemen",
   "metadata": {},
   "outputs": [
    {
     "name": "stdout",
     "output_type": "stream",
     "text": [
      "NDCG=0.000 |  Recall=0.000 | HR=0.000 | Precision=0.000 | Invalid users=0\n",
      "cum_k == 0  6548\n"
     ]
    }
   ],
   "source": [
    "ans_cover_rate(1)"
   ]
  },
  {
   "cell_type": "code",
   "execution_count": 17,
   "id": "flying-cloud",
   "metadata": {},
   "outputs": [
    {
     "name": "stdout",
     "output_type": "stream",
     "text": [
      "NDCG=5.251 |  Recall=16.840 | HR=37.996 | Precision=0.958 | Invalid users=0\n",
      "cum_k == 0  2\n"
     ]
    }
   ],
   "source": [
    "ans_cover_rate(2)"
   ]
  },
  {
   "cell_type": "code",
   "execution_count": 18,
   "id": "published-profession",
   "metadata": {},
   "outputs": [
    {
     "name": "stdout",
     "output_type": "stream",
     "text": [
      "NDCG=10.301 |  Recall=71.697 | HR=92.944 | Precision=0.145 | Invalid users=0\n",
      "cum_k == 0  0\n"
     ]
    }
   ],
   "source": [
    "ans_cover_rate(3)"
   ]
  },
  {
   "cell_type": "code",
   "execution_count": null,
   "id": "purple-intellectual",
   "metadata": {},
   "outputs": [],
   "source": []
  },
  {
   "cell_type": "code",
   "execution_count": null,
   "id": "excess-wayne",
   "metadata": {},
   "outputs": [],
   "source": []
  }
 ],
 "metadata": {
  "kernelspec": {
   "display_name": "Python 3",
   "language": "python",
   "name": "python3"
  },
  "language_info": {
   "codemirror_mode": {
    "name": "ipython",
    "version": 3
   },
   "file_extension": ".py",
   "mimetype": "text/x-python",
   "name": "python",
   "nbconvert_exporter": "python",
   "pygments_lexer": "ipython3",
   "version": "3.8.5"
  }
 },
 "nbformat": 4,
 "nbformat_minor": 5
}
