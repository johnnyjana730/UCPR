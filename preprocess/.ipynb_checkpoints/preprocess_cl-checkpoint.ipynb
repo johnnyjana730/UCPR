{
 "cells": [
  {
   "cell_type": "code",
   "execution_count": 1,
   "id": "champion-leave",
   "metadata": {},
   "outputs": [],
   "source": [
    "from __future__ import absolute_import, division, print_function\n",
    "\n",
    "import os\n",
    "import pickle\n",
    "import gzip\n",
    "\n",
    "import sys\n",
    "sys.path.insert(0,'..')\n",
    "\n",
    "from utils import *\n",
    "from dataset import RW_based_dataset, KG_based_dataset\n",
    "from knowledge_graph import RW_based_KG, KG_based_KG\n",
    "import pandas as pd"
   ]
  },
  {
   "cell_type": "code",
   "execution_count": 2,
   "id": "alike-suite",
   "metadata": {},
   "outputs": [],
   "source": [
    "class args_class:\n",
    "    def __init__(self):\n",
    "        self.dataset = CLOTH_CORE\n",
    "        self.att_th_lower = 0\n",
    "        self.att_th_upper = 3000\n",
    "        self.user_core_th = 6\n",
    "        self.user_top_k = 6000\n",
    "        \n",
    "args = args_class()\n",
    "        \n",
    "if not os.path.isdir(DATA_DIR[args.dataset]):\n",
    "    os.makedirs(DATA_DIR[args.dataset])"
   ]
  },
  {
   "cell_type": "markdown",
   "id": "parallel-uncertainty",
   "metadata": {},
   "source": [
    "load review to dataset class"
   ]
  },
  {
   "cell_type": "code",
   "execution_count": 3,
   "id": "endangered-facility",
   "metadata": {},
   "outputs": [
    {
     "name": "stdout",
     "output_type": "stream",
     "text": [
      "Load cloth_core dataset from file...\n",
      "load entities \n",
      "user enti voc =  ['A2TGBWJD3UG4TZ', 'A3MH40TK0FRBYG', 'A22IWLF9X6ZVDN', 'A21X0SNUI6A6AX', 'A3L480V4GK0B0T', 'A2L6LGTCAO02FY', 'AD7L6PWWDCP2R', 'A2YHK5FHZHYOJG', 'A7DYBDGVB2LC4', 'AEUYRH8AENK3H']\n",
      "product enti voc =  ['B006WCB2QG', 'B003317BF0', 'B001KTORYU', 'B000UMQB1U', 'B0073UM4EU', 'B004YARNR0', 'B00HV6O5DY', 'B0085IFDEW', 'B008H2ETBY', 'B000GX6VSQ']\n",
      "word enti voc =  ['', 'fawn', 'priceyou', 'herniate', 'themoverall', 'mewith', 'itbefore', 'both', 'yellow', 'four']\n",
      "related_product enti voc =  ['0000031852', '0000031895', '0000031909', 'B00D2K1M3O', 'B00D10CLVW', 'B003AVKOP2', 'B00D103F8U', 'B00613WDTQ', 'B008F0SU0Y', 'B00D23MC6W']\n",
      "brand enti voc =  ['Boutique Cutie', 'Disney', 'Lewis N. Clark', 'Suunto', 'Marvel&#39;s Classic Spider-Man', 'Master Lock', 'Rubie&#39;s Costume Co', 'Kidoozie', 'Dora the Explorer', 'Casio']\n",
      "category enti voc =  ['Clothing, Shoes & Jewelry', 'Girls', 'Clothing', 'Active', 'Active Skirts', 'Novelty, Costumes & More', 'Jewelry Accessories', 'Jewelry Boxes & Organizers', 'Jewelry Boxes', 'Luggage & Travel Gear']\n",
      "Load produced_by of size 23033\n",
      "produced_by et_vocab =  ['Boutique Cutie', 'Disney', 'Lewis N. Clark', 'Suunto', 'Marvel&#39;s Classic Spider-Man', 'Master Lock', 'Rubie&#39;s Costume Co', 'Kidoozie', 'Dora the Explorer', 'Casio'] data =  [[], [], [], [79], [672], [], [], [], [], [37]]\n",
      "Load belongs_to of size 23033\n",
      "belongs_to et_vocab =  ['Clothing, Shoes & Jewelry', 'Girls', 'Clothing', 'Active', 'Active Skirts', 'Novelty, Costumes & More', 'Jewelry Accessories', 'Jewelry Boxes & Organizers', 'Jewelry Boxes', 'Luggage & Travel Gear'] data =  [[0, 25, 423, 711, 39], [0, 129, 2, 164, 261, 38, 42, 395, 28], [0, 1, 2, 91, 49], [0, 28, 5, 14, 15], [0, 357, 48, 25, 62, 5], [0, 564, 5, 14], [0, 2, 5, 48, 25, 350], [0, 2, 273, 42, 113, 53, 185, 28], [0, 2, 3, 38, 108, 109, 28], [0, 5, 47, 25, 26, 27, 28]]\n",
      "Load also_bought of size 23033\n",
      "also_bought et_vocab =  ['0000031852', '0000031895', '0000031909', 'B00D2K1M3O', 'B00D10CLVW', 'B003AVKOP2', 'B00D103F8U', 'B00613WDTQ', 'B008F0SU0Y', 'B00D23MC6W'] data =  [[157044, 40113, 160215, 106176, 16250, 148881, 157039, 134763, 174984, 160196, 268314, 168811, 174985, 40107, 148899, 142188, 143651, 48545, 106194, 42319, 172589, 49888, 27101, 120460, 172586, 106197, 183463, 101967, 40080, 146461, 104820], [8086, 17839, 18136, 8093, 7792, 13793, 5472, 21872, 18834, 13791, 21882, 18866, 7201, 6038, 18838, 7802, 21892, 18181, 7789, 13028, 11448, 86265, 178452, 5972, 178453, 5089, 21876, 18171, 69300, 18161, 34551, 11091, 18165, 8669, 53006, 7800, 178454, 18179, 18820, 21899, 178455, 18527, 18184, 18529, 11055, 13063, 12231, 17817, 20667, 70229, 86071, 18182, 18160, 7221, 1653, 17838, 12255, 17814, 11450, 4151, 18168, 51861, 116235, 18149, 5190, 178456, 4401, 7961, 11042, 30299, 124124, 7206, 5979, 13179, 18163, 24039, 94865, 18145, 70258, 13806, 4415, 7199, 5346, 4614, 32070, 13384, 13788, 37914, 22402, 13385, 7778, 8325, 18830, 70560, 31216, 17356, 20860, 178457, 17826, 5974], [33884, 73544, 73560, 73541, 1278, 4858, 33905, 54994, 73539, 33836, 73551, 138494, 33875, 9117, 33874, 49008, 33825, 138495, 73547, 87223, 60159, 138504, 60154, 138505, 4850, 138506, 33844, 24379, 138507, 138508, 33900, 33894, 73572, 138489, 33852, 138509, 33893, 33886, 74229, 33872, 138510, 138511, 33856, 33857, 299, 138512, 33885, 29390, 138513, 33823, 138514, 138515, 33931, 18747, 18760, 138516, 4326, 33895, 138517, 9516, 33824, 33867, 122963, 70824, 138518, 138519, 138520, 52174, 138521, 138522, 73540, 138523, 33833, 138524, 138525, 138526, 73599, 138527, 83821, 138528, 138529, 138484, 138530, 1285, 132244, 138531, 73549, 40492, 138532, 33860, 138533, 138534, 4337, 33864, 138535, 60813, 73537, 33902, 138536, 138537], [37152, 37072, 37102, 78366, 78434, 78428, 37070, 37079, 37147, 37153, 78442, 78430, 78436, 78431, 78462, 37093, 37066, 37074, 78448, 37064, 37133, 78463, 78490, 78340, 100125, 78445, 78433, 37141, 78457, 78450, 78429, 37119, 78328, 37144, 37155, 37108, 78473, 78449, 100126, 78435, 100127, 78441, 78352, 78446, 13585, 37109, 78348, 37088, 100128, 100129, 100130, 78382, 78494, 78438, 78354, 37092, 37076, 37090, 78509, 100131, 37111, 37162, 100132, 100133, 100134, 100135, 37100, 37067, 100136, 100137, 78332, 37089, 61686, 78498, 78432, 78496, 78454, 78349, 78347, 100138, 37060, 37061, 37140, 37112, 100139, 67950, 37078, 100140, 78479, 78501, 100141, 78505, 100142, 100143, 100144], [63213, 217158, 225109, 93382, 239955, 93395, 225115, 271041, 166372, 271042, 259621, 239948, 225114, 214585, 166387, 144038, 271043, 271044, 166438, 210746, 43595, 210749, 44245, 239957, 166376, 95590, 166369, 166367, 210748, 225107, 239945, 41030, 95601, 41017, 75343, 217171, 210778, 217147, 217163, 166429, 75320, 167043, 239946, 271045, 239951, 144007, 93380, 271046, 166412, 166375, 259630, 166437, 271047, 166397, 271048, 271049, 41036, 192972, 217165, 214586, 271050, 271051, 225120, 167041, 271052, 43599, 217187, 259620, 166418, 271053, 80398, 239952, 22236, 123156], [45419, 45471, 45412, 45413, 45431, 45417, 45418, 32932, 45429, 45414, 45430, 45425, 45421, 45434, 45433, 72377, 45443, 45426, 45453, 233860, 45509, 45420, 45416, 233861, 45432, 233862, 45428, 233863, 233864, 233865, 45482, 108258, 67099, 45444, 45446, 45440, 45455, 45422, 233866, 45442, 233867, 45490, 182943, 45427, 231213, 45424, 233868, 233869, 45445, 25673, 233870, 233871, 233872, 45415, 119549, 233873, 67111, 233874, 233875, 233876, 45439, 233877, 195663, 45436, 45437, 195651, 164218, 233878, 233879, 233880, 233881, 94183, 233882, 45485, 233883, 45441, 233884, 233885, 233886, 233887, 233888, 45461, 233889, 45481, 45511, 233890, 233891, 233892, 233893, 67097, 233894, 233895], [301570, 269773, 290550, 317203, 319691, 289954, 166759, 338229, 325321, 62545, 251824, 180500, 251832, 282363, 338230, 62546, 82087, 71466, 1456, 180332, 105257, 338231, 282610, 181261, 256471, 289980, 62073, 250138, 281679, 256926, 250132, 289959, 285078, 286414, 338232, 338233, 338234, 338235, 126642, 338236, 338237, 285076, 148765, 250157, 289950, 215931, 289953, 316224, 261218, 299643, 250183, 338238, 105262, 71506, 281882, 251821, 250070, 261081, 285082, 185812, 3391, 70302, 267609, 289967, 181962, 281877, 89415, 263529, 4539, 146076, 72600, 105254, 146430, 112130, 253374, 105268, 72882, 274946, 38237, 157235, 76662, 163595, 250140, 180382, 112156, 327786, 21901, 200540, 72896, 2336, 223577, 167757, 338239, 76780, 62544, 16115, 166824, 106163, 228725, 17100], [8760, 15476, 18965, 21659, 5176, 38071, 9977, 9442, 4640, 160965, 5504, 5207, 5392, 5203, 5275, 16770, 43768, 5517, 5532, 5386, 5554, 100881, 5506, 5352, 18978, 287112, 39315, 13099, 5382, 287115, 13118, 5411, 5545, 30738, 5360, 5211, 5359, 15471, 9851, 5499, 5183, 5162, 5262, 5190, 18941, 5354, 5542, 30798, 8759, 287116, 5202, 38063, 5377, 13077, 9705, 5235, 5550, 5158, 51731, 5408, 287117, 15493, 5379, 5509, 138172, 19093, 5350, 5679, 5221, 52944, 13059, 203700, 13609, 5264, 5444, 5456, 15505, 9932, 9943, 31087, 5507, 5181, 5198, 5534, 156482, 7232, 5342, 5404, 103615, 5487, 5661, 13611, 18523, 11106, 5215, 5399], [20778, 52609, 16919, 13440, 1453, 20860, 1759, 4150, 20780, 4701, 13194, 4700, 14134, 5986, 9983, 13820, 29082, 71116, 13920, 20680, 20848, 94999, 20679, 5422, 20597, 20826, 15400, 13394, 23124, 13761, 10029], [61954, 9206, 66736, 66737, 66738, 66739, 9048, 66740, 12536, 1227, 66741, 66742, 8670]]\n",
      "Load also_viewed of size 23033\n",
      "also_viewed et_vocab =  ['0000031852', '0000031895', '0000031909', 'B00D2K1M3O', 'B00D10CLVW', 'B003AVKOP2', 'B00D103F8U', 'B00613WDTQ', 'B008F0SU0Y', 'B00D23MC6W'] data =  [[40113, 148899, 148881, 2890, 157042, 157050, 16250, 106176, 155466, 162845, 175548, 148889, 168813, 149801], [18136, 6038], [33825], [78428], [63213, 75320, 93395, 93382, 75343, 95595, 95601, 93574, 240181], [45419, 45412, 72377], [269773], [8760, 148616, 39317, 44152, 126530, 51058], [20848, 5983, 1761], [11876, 9198, 8973, 9048, 14068, 24889, 8670, 8790]]\n",
      "Load bought_together of size 23033\n",
      "bought_together et_vocab =  ['0000031852', '0000031895', '0000031909', 'B00D2K1M3O', 'B00D10CLVW', 'B003AVKOP2', 'B00D103F8U', 'B00613WDTQ', 'B008F0SU0Y', 'B00D23MC6W'] data =  [[40113, 148881], [], [], [], [93382, 93395], [45419], [269773], [8760], [20778, 13440], []]\n",
      "load review \n",
      "review tst =  (431, 8374, [8028, 12395, 10319, 20832, 4237, 1127, 16293, 18758, 1109, 5478, 1127, 6673, 5295, 17802, 12097, 11620, 17560, 1127, 17433, 12570, 15254, 861, 17433, 6816, 15702, 11620, 6550, 6465, 10319, 20832, 4237, 2696, 9337, 2547, 8290, 20390, 16145, 19935, 2969, 8551, 861, 6550, 1227, 17433, 16712, 7923, 3883, 4142, 7317, 6550, 8028, 13770, 4567, 8426, 9073, 18529, 12674, 9337, 1127, 16386, 13413])\n",
      "review tst =  (2925, 8374, [10319, 15312, 15922, 2865, 714, 1850, 5967, 6917, 10319, 1935, 16293, 5478, 15312, 11620, 11628, 15601, 12780, 574, 861, 12326, 861, 10319, 2581, 7686, 2696, 15922, 1127, 5734, 17433, 1850, 11620, 5543, 8290, 8028, 13770, 17904, 1127, 8290, 6673, 10142, 4142, 16712, 15307, 15465, 4142, 6210, 2696, 16842, 16525, 861, 12594, 12500, 1507, 11620, 10319, 12568, 11620, 5543, 8290, 4142, 15922, 1127, 9677, 861, 3276, 4567])\n",
      "review tst =  (18864, 8374, [6465, 8651, 6123, 20832, 16972, 20120, 2589, 20065, 861, 5734, 9904, 16488, 4268, 18131, 8651, 861, 19811, 9424, 17433, 12500, 15312, 8407, 11395, 13005, 15421, 9676, 15998, 2696, 3276, 861, 17433, 20120, 15312, 13506, 3883, 10321, 343, 17433, 18758, 1109, 17433, 18758, 1109, 10321, 4614, 16673, 18529, 10918, 2696, 9848, 7379, 20601, 5543, 15302, 18379, 17433, 11684, 15425, 4992, 17433, 20120, 17433, 4879, 1963, 12790, 10596, 861, 2584, 10906, 1058, 2696, 7739, 15930, 4237, 5543, 7072, 19134])\n",
      "review tst =  (7386, 8374, [3016, 18525, 10319, 6147, 4237, 17560, 861, 11626, 7072, 8290, 20121, 18529, 11620, 15930, 16293, 5478, 5543, 10319, 15702, 11620, 16232, 5221, 13447, 2586, 11620, 15465, 11628, 17433, 16255, 15930, 3016, 7072, 861, 17433, 1850, 5734, 4030, 16270, 5543, 12326, 21014, 861, 17433, 9879, 1963, 5543, 12326, 17055, 5543, 7072, 5967, 10319, 253, 19593, 2696, 17433, 4675, 17802, 16528, 1045, 17433, 3674, 17802, 6550, 7714, 16842, 2547, 11620, 1352, 10319, 12640, 14073, 5848, 12717, 18529, 6023, 9807, 11620, 7348, 17802, 8844, 11620])\n",
      "review tst =  (16467, 8374, [4142, 1127, 606, 861, 1127, 1367, 8770, 20832, 4237, 2586, 8290, 7823, 2696, 17433, 11323, 1367, 10142, 16293, 5478, 1058, 2696, 16842, 9943, 18764, 17802, 14535, 11620, 2696, 3276, 15998, 2514, 21231, 8309, 15930, 10319, 2581, 17990, 10321, 5221, 9933, 2696, 14535, 11620, 1127, 8290, 18356, 1102, 8321, 17433, 12362, 5543, 6023, 14072, 1127, 17433, 7317, 6123, 4080, 10319, 6550, 7072, 19152, 8290, 9749, 9595, 1127, 4237, 7317, 861, 16488, 9867, 5967, 10319, 4080, 1127])\n",
      "Load review of size 214696\n",
      "self.core_user_list =  10228\n"
     ]
    }
   ],
   "source": [
    "print('Load', args.dataset, 'dataset from file...')\n",
    "dataset = RW_based_dataset(args, DATA_DIR[args.dataset] + '/review_data/')"
   ]
  },
  {
   "cell_type": "markdown",
   "id": "second-feeding",
   "metadata": {},
   "source": [
    "generate train and test label by filtered users"
   ]
  },
  {
   "cell_type": "code",
   "execution_count": 4,
   "id": "polar-twins",
   "metadata": {},
   "outputs": [],
   "source": [
    "def labels_filter(core_user_list, dataset, mode='train'):\n",
    "\n",
    "    review_file = '{}/{}/review_{}.txt.gz'.format(DATA_DIR[dataset], 'review_data', mode)\n",
    "    user_products = {}  # {uid: [pid,...], ...}\n",
    "\n",
    "    print('len(core_user_list) = ', len(core_user_list))\n",
    "\n",
    "    count = 0\n",
    "    with gzip.open(review_file, 'r') as f:\n",
    "        for line in f:\n",
    "\n",
    "            line = line.decode('utf-8').strip()\n",
    "            arr = line.split('\\t')\n",
    "            user_idx = int(arr[0])\n",
    "            product_idx = int(arr[1])\n",
    "\n",
    "            if user_idx in core_user_list:\n",
    "                if user_idx not in user_products:\n",
    "                    user_products[user_idx] = []\n",
    "                user_products[user_idx].append(product_idx)\n",
    "                count += 1\n",
    "\n",
    "    print(mode + ', avg user product = ', count/len(user_products))\n",
    "\n",
    "    return user_products"
   ]
  },
  {
   "cell_type": "code",
   "execution_count": 5,
   "id": "surprising-forge",
   "metadata": {},
   "outputs": [
    {
     "name": "stdout",
     "output_type": "stream",
     "text": [
      "generate filter label cloth_core knowledge graph from dataset...\n",
      "len(core_user_list) =  10228\n",
      "train, avg user product =  8.25762612436449\n",
      "len(core_user_list) =  10228\n",
      "test, avg user product =  2.917774736018772\n"
     ]
    }
   ],
   "source": [
    "print('generate filter label', args.dataset, 'knowledge graph from dataset...')\n",
    "core_user_list = dataset.core_user_list\n",
    "trn_label = labels_filter(core_user_list, args.dataset, 'train')\n",
    "tst_label = labels_filter(core_user_list, args.dataset, 'test')"
   ]
  },
  {
   "cell_type": "markdown",
   "id": "fuzzy-fleet",
   "metadata": {},
   "source": [
    "build KG from review dataset class"
   ]
  },
  {
   "cell_type": "code",
   "execution_count": 6,
   "id": "premier-cinema",
   "metadata": {},
   "outputs": [
    {
     "name": "stdout",
     "output_type": "stream",
     "text": [
      "build cloth_core knowledge graph from dataset...\n",
      "Load reviews...\n",
      "Load knowledge produced_by...\n",
      "Load knowledge belongs_to...\n",
      "Load knowledge also_bought...\n",
      "Load knowledge also_viewed...\n",
      "Load knowledge bought_together...\n",
      "Load entities...\n",
      "Total 425528 nodes.\n",
      "Load reviews...\n",
      "Load knowledge produced_by...\n",
      "Load knowledge belongs_to...\n",
      "Load knowledge also_bought...\n",
      "Load knowledge also_viewed...\n",
      "Load knowledge bought_together...\n",
      "Remove duplicates...\n",
      "relation =  {'purchase': [['user', 431, 'purchase', 8374], ['user', 2925, 'purchase', 8374], ['user', 18864, 'purchase', 8374], ['user', 7386, 'purchase', 8374], ['user', 16467, 'purchase', 8374], ['user', 36352, 'purchase', 8374], ['user', 7184, 'purchase', 8374], ['user', 16267, 'purchase', 8374], ['user', 21870, 'purchase', 8374], ['user', 33878, 'purchase', 8374], ['user', 16619, 'purchase', 8374], ['user', 35824, 'purchase', 8374], ['user', 32964, 'purchase', 8374], ['user', 1548, 'purchase', 8374], ['user', 22896, 'purchase', 8374], ['user', 12380, 'purchase', 8374], ['user', 17609, 'purchase', 8374], ['user', 17001, 'purchase', 8269], ['user', 30519, 'purchase', 8269], ['user', 11490, 'purchase', 8269], ['user', 13633, 'purchase', 8269], ['user', 34010, 'purchase', 2503], ['user', 24134, 'purchase', 2503], ['user', 27624, 'purchase', 2503], ['user', 27211, 'purchase', 2503], ['user', 21553, 'purchase', 2503], ['user', 4844, 'purchase', 2503], ['user', 6375, 'purchase', 2503], ['user', 37901, 'purchase', 2503], ['user', 15378, 'purchase', 2503]], 'mentions': [['user', 431, 'mentions', 6673], ['user', 431, 'mentions', 17560], ['user', 431, 'mentions', 2969], ['user', 431, 'mentions', 6816], ['user', 431, 'mentions', 5295], ['user', 431, 'mentions', 6465], ['user', 431, 'mentions', 18758], ['user', 431, 'mentions', 13413], ['user', 431, 'mentions', 8551], ['user', 431, 'mentions', 7923], ['user', 2925, 'mentions', 7686], ['user', 2925, 'mentions', 6673], ['user', 2925, 'mentions', 10142], ['user', 2925, 'mentions', 12326], ['user', 2925, 'mentions', 9677], ['user', 2925, 'mentions', 3276], ['user', 2925, 'mentions', 12500], ['user', 2925, 'mentions', 15601], ['user', 18864, 'mentions', 4614], ['user', 18864, 'mentions', 4879], ['user', 18864, 'mentions', 20120], ['user', 18864, 'mentions', 10906], ['user', 18864, 'mentions', 16673], ['user', 18864, 'mentions', 11684], ['user', 18864, 'mentions', 7739], ['user', 18864, 'mentions', 15421], ['user', 18864, 'mentions', 19134], ['user', 18864, 'mentions', 6465], ['user', 18864, 'mentions', 13506], ['user', 18864, 'mentions', 15425]], 'described_as': [['product', 8374, 'described_as', 6673], ['product', 8374, 'described_as', 17560], ['product', 8374, 'described_as', 2969], ['product', 8374, 'described_as', 6816], ['product', 8374, 'described_as', 5295], ['product', 8374, 'described_as', 6465], ['product', 8374, 'described_as', 18758], ['product', 8374, 'described_as', 13413], ['product', 8374, 'described_as', 8551], ['product', 8374, 'described_as', 7923], ['product', 8374, 'described_as', 7686], ['product', 8374, 'described_as', 6673], ['product', 8374, 'described_as', 10142], ['product', 8374, 'described_as', 12326], ['product', 8374, 'described_as', 9677], ['product', 8374, 'described_as', 3276], ['product', 8374, 'described_as', 12500], ['product', 8374, 'described_as', 15601], ['product', 8374, 'described_as', 4614], ['product', 8374, 'described_as', 4879], ['product', 8374, 'described_as', 20120], ['product', 8374, 'described_as', 10906], ['product', 8374, 'described_as', 16673], ['product', 8374, 'described_as', 11684], ['product', 8374, 'described_as', 7739], ['product', 8374, 'described_as', 15421], ['product', 8374, 'described_as', 19134], ['product', 8374, 'described_as', 6465], ['product', 8374, 'described_as', 13506], ['product', 8374, 'described_as', 15425]], 'produced_by': [['product', 3, 'produced_by', 79], ['product', 4, 'produced_by', 672], ['product', 9, 'produced_by', 37], ['product', 10, 'produced_by', 152], ['product', 14, 'produced_by', 749], ['product', 15, 'produced_by', 6], ['product', 22, 'produced_by', 354], ['product', 24, 'produced_by', 18], ['product', 29, 'produced_by', 1093], ['product', 30, 'produced_by', 359], ['product', 46, 'produced_by', 38], ['product', 50, 'produced_by', 572], ['product', 52, 'produced_by', 420], ['product', 64, 'produced_by', 51], ['product', 66, 'produced_by', 834], ['product', 70, 'produced_by', 52], ['product', 74, 'produced_by', 290], ['product', 83, 'produced_by', 17], ['product', 85, 'produced_by', 664], ['product', 89, 'produced_by', 207], ['product', 94, 'produced_by', 142], ['product', 97, 'produced_by', 834], ['product', 100, 'produced_by', 132], ['product', 106, 'produced_by', 723], ['product', 108, 'produced_by', 95], ['product', 109, 'produced_by', 32], ['product', 118, 'produced_by', 705], ['product', 125, 'produced_by', 57], ['product', 128, 'produced_by', 690], ['product', 137, 'produced_by', 38]], 'belongs_to': [['product', 0, 'belongs_to', 711], ['product', 0, 'belongs_to', 39], ['product', 0, 'belongs_to', 423], ['product', 1, 'belongs_to', 129], ['product', 1, 'belongs_to', 164], ['product', 1, 'belongs_to', 261], ['product', 1, 'belongs_to', 38], ['product', 1, 'belongs_to', 42], ['product', 1, 'belongs_to', 395], ['product', 2, 'belongs_to', 1], ['product', 2, 'belongs_to', 49], ['product', 2, 'belongs_to', 91], ['product', 3, 'belongs_to', 14], ['product', 3, 'belongs_to', 15], ['product', 4, 'belongs_to', 357], ['product', 4, 'belongs_to', 62], ['product', 5, 'belongs_to', 564], ['product', 5, 'belongs_to', 14], ['product', 6, 'belongs_to', 350], ['product', 7, 'belongs_to', 42], ['product', 7, 'belongs_to', 273], ['product', 7, 'belongs_to', 113], ['product', 7, 'belongs_to', 53], ['product', 7, 'belongs_to', 185], ['product', 8, 'belongs_to', 3], ['product', 8, 'belongs_to', 38], ['product', 8, 'belongs_to', 108], ['product', 8, 'belongs_to', 109], ['product', 9, 'belongs_to', 47], ['product', 9, 'belongs_to', 26]], 'also_bought': [['product', 0, 'also_bought', 174984], ['product', 0, 'also_bought', 174985], ['product', 0, 'also_bought', 120460], ['product', 0, 'also_bought', 40080], ['product', 0, 'also_bought', 148881], ['product', 0, 'also_bought', 268314], ['product', 0, 'also_bought', 146461], ['product', 0, 'also_bought', 48545], ['product', 0, 'also_bought', 148899], ['product', 0, 'also_bought', 143651], ['product', 0, 'also_bought', 183463], ['product', 0, 'also_bought', 172586], ['product', 0, 'also_bought', 40107], ['product', 0, 'also_bought', 172589], ['product', 0, 'also_bought', 40113], ['product', 0, 'also_bought', 106176], ['product', 0, 'also_bought', 160196], ['product', 0, 'also_bought', 42319], ['product', 0, 'also_bought', 101967], ['product', 0, 'also_bought', 106194], ['product', 0, 'also_bought', 106197], ['product', 0, 'also_bought', 160215], ['product', 0, 'also_bought', 27101], ['product', 0, 'also_bought', 49888], ['product', 0, 'also_bought', 134763], ['product', 0, 'also_bought', 168811], ['product', 0, 'also_bought', 142188], ['product', 0, 'also_bought', 157039], ['product', 0, 'also_bought', 157044], ['product', 0, 'also_bought', 104820]], 'also_viewed': [['product', 0, 'also_viewed', 106176], ['product', 0, 'also_viewed', 148899], ['product', 0, 'also_viewed', 149801], ['product', 0, 'also_viewed', 2890], ['product', 0, 'also_viewed', 155466], ['product', 0, 'also_viewed', 168813], ['product', 0, 'also_viewed', 40113], ['product', 0, 'also_viewed', 148881], ['product', 0, 'also_viewed', 157042], ['product', 0, 'also_viewed', 148889], ['product', 0, 'also_viewed', 157050], ['product', 0, 'also_viewed', 175548], ['product', 0, 'also_viewed', 162845], ['product', 0, 'also_viewed', 16250], ['product', 1, 'also_viewed', 18136], ['product', 1, 'also_viewed', 6038], ['product', 2, 'also_viewed', 33825], ['product', 3, 'also_viewed', 78428], ['product', 4, 'also_viewed', 93382], ['product', 4, 'also_viewed', 93574], ['product', 4, 'also_viewed', 95595], ['product', 4, 'also_viewed', 63213], ['product', 4, 'also_viewed', 75343], ['product', 4, 'also_viewed', 95601], ['product', 4, 'also_viewed', 93395], ['product', 4, 'also_viewed', 240181], ['product', 4, 'also_viewed', 75320], ['product', 5, 'also_viewed', 72377], ['product', 5, 'also_viewed', 45419], ['product', 5, 'also_viewed', 45412]], 'bought_together': [['product', 0, 'bought_together', 40113], ['product', 0, 'bought_together', 148881], ['product', 4, 'bought_together', 93395], ['product', 4, 'bought_together', 93382], ['product', 5, 'bought_together', 45419], ['product', 6, 'bought_together', 269773], ['product', 7, 'bought_together', 8760], ['product', 8, 'bought_together', 13440], ['product', 8, 'bought_together', 20778], ['product', 12, 'bought_together', 14439], ['product', 14, 'bought_together', 84696], ['product', 14, 'bought_together', 154151], ['product', 17, 'bought_together', 6032], ['product', 17, 'bought_together', 6063], ['product', 18, 'bought_together', 150360], ['product', 18, 'bought_together', 110103], ['product', 19, 'bought_together', 70668], ['product', 19, 'bought_together', 2471], ['product', 25, 'bought_together', 52805], ['product', 26, 'bought_together', 76080], ['product', 26, 'bought_together', 145857], ['product', 29, 'bought_together', 36282], ['product', 30, 'bought_together', 69314], ['product', 33, 'bought_together', 34876], ['product', 35, 'bought_together', 103813], ['product', 37, 'bought_together', 110455], ['product', 46, 'bought_together', 210042], ['product', 46, 'bought_together', 155195], ['product', 48, 'bought_together', 174696], ['product', 50, 'bought_together', 181261]]}\n",
      "relation count =  {'purchase': 429392, 'mentions': 3767090, 'described_as': 3767090, 'produced_by': 7928, 'belongs_to': 164454, 'also_bought': 2826284, 'also_viewed': 289588, 'bought_together': 31674}\n",
      "rela avg link number =  {'user': {'purchase': 5.450935587884327, 'mentions': 44.32575026659219}, 'product': {'purchase': 9.322448979591837, 'described_as': 69.09487624837169, 'belongs_to': 3.6327369118621604, 'also_bought': 62.66149343738915, 'also_viewed': 7.107849393746012, 'bought_together': 1.5207413097753024, 'produced_by': 1.0}, 'word': {'mentions': 83.28867897523973, 'described_as': 75.91503267973856}, 'related_product': {'also_bought': 6.489119304223244, 'also_viewed': 18.745986535473847, 'bought_together': 3.782421781705278}, 'brand': {'produced_by': 3.3536379018612523}, 'category': {'belongs_to': 69.38987341772152}}\n"
     ]
    }
   ],
   "source": [
    "print('build', args.dataset, 'knowledge graph from dataset...')\n",
    "kg = RW_based_KG(args, dataset)"
   ]
  },
  {
   "cell_type": "markdown",
   "id": "loaded-mailman",
   "metadata": {},
   "source": [
    "save information"
   ]
  },
  {
   "cell_type": "code",
   "execution_count": 7,
   "id": "afraid-thickness",
   "metadata": {},
   "outputs": [
    {
     "name": "stdout",
     "output_type": "stream",
     "text": [
      "cloth_core  save dataset, trn tst label, kg\n"
     ]
    }
   ],
   "source": [
    "print(args.dataset, ' save dataset, trn tst label, kg')\n",
    "save_dataset(args.dataset, dataset)\n",
    "save_labels(args.dataset, trn_label, mode='train')\n",
    "save_labels(args.dataset, tst_label, mode='test')\n",
    "save_kg(args.dataset, kg)"
   ]
  },
  {
   "cell_type": "markdown",
   "id": "asian-gateway",
   "metadata": {},
   "source": [
    "part2 answer covering rate check"
   ]
  },
  {
   "cell_type": "code",
   "execution_count": null,
   "id": "french-figure",
   "metadata": {},
   "outputs": [],
   "source": []
  },
  {
   "cell_type": "code",
   "execution_count": 8,
   "id": "artistic-comment",
   "metadata": {},
   "outputs": [
    {
     "name": "stdout",
     "output_type": "stream",
     "text": [
      "Load embedding: ../data/Amazon_Clothing_Core/transe_embed.pkl\n"
     ]
    }
   ],
   "source": [
    "embeds = load_embed(args.dataset)"
   ]
  },
  {
   "cell_type": "code",
   "execution_count": 9,
   "id": "sunrise-bidding",
   "metadata": {},
   "outputs": [],
   "source": [
    "from math import log\n",
    "\n",
    "def evaluate(topk_matches, test_user_products):\n",
    "    \"\"\"Compute metrics for predicted recommendations.\n",
    "    Args:\n",
    "        topk_matches: a list or dict of product ids in ascending order.\n",
    "    \"\"\"\n",
    "    cum_k = 0\n",
    "    invalid_users = []\n",
    "    # Compute metrics\n",
    "    precisions, recalls, ndcgs, hits = [], [], [], []\n",
    "    test_user_idxs = list(test_user_products.keys())\n",
    "    for uid in test_user_idxs:\n",
    "\n",
    "        if uid not in topk_matches:\n",
    "            print('uid not in topk_matches = ',uid)\n",
    "            invalid_users.append(uid)\n",
    "            continue\n",
    "        pred_list, rel_set = topk_matches[uid][::-1], test_user_products[uid]\n",
    "\n",
    "        if len(pred_list) == 0:\n",
    "            cum_k += 1\n",
    "            ndcgs.append(0)\n",
    "            recalls.append(0)\n",
    "            precisions.append(0)\n",
    "            hits.append(0)\n",
    "            continue\n",
    "\n",
    "        dcg = 0.0\n",
    "        hit_num = 0.0\n",
    "        for i in range(len(pred_list)):\n",
    "            if pred_list[i] in rel_set:\n",
    "                dcg += 1. / (log(i + 2) / log(2))\n",
    "                hit_num += 1\n",
    "        # idcg\n",
    "        idcg = 0.0\n",
    "        for i in range(min(len(rel_set), len(pred_list))):\n",
    "            idcg += 1. / (log(i + 2) / log(2))\n",
    "        ndcg = dcg / idcg\n",
    "\n",
    "        recall = hit_num / len(rel_set)\n",
    "\n",
    "        precision = hit_num / len(pred_list)\n",
    "\n",
    "        hit = 1.0 if hit_num > 0.0 else 0.0\n",
    "\n",
    "        ndcgs.append(ndcg)\n",
    "        recalls.append(recall)\n",
    "        precisions.append(precision)\n",
    "        hits.append(hit)\n",
    "\n",
    "    avg_precision = np.mean(precisions) * 100\n",
    "    avg_recall = np.mean(recalls) * 100\n",
    "    avg_ndcg = np.mean(ndcgs) * 100\n",
    "    avg_hit = np.mean(hits) * 100\n",
    "    print('NDCG={:.3f} |  Recall={:.3f} | HR={:.3f} | Precision={:.3f} | Invalid users={}'.format(\n",
    "            avg_ndcg, avg_recall, avg_hit, avg_precision, len(invalid_users)))\n",
    "    print('cum_k == 0 ',  cum_k)\n",
    "    return avg_precision, avg_recall, avg_ndcg, avg_hit, invalid_users, cum_k"
   ]
  },
  {
   "cell_type": "code",
   "execution_count": 10,
   "id": "entertaining-counter",
   "metadata": {},
   "outputs": [],
   "source": [
    "max_acts = 51\n",
    "\n",
    "def get_actions(path, user):\n",
    "    \"\"\"Compute actions for current node.\"\"\"\n",
    "    curr_node_type, curr_node_id = path\n",
    "    actions = [(SELF_LOOP, curr_node_id)]  # self-loop must be included.\n",
    "\n",
    "    relations_nodes = kg(curr_node_type, curr_node_id)\n",
    "    candidate_acts = []  # list of tuples of (relation, node_type, node_id)\n",
    "\n",
    "    for r in relations_nodes:\n",
    "        next_node_type = KG_RELATION[curr_node_type][r]\n",
    "        next_node_ids = relations_nodes[r]\n",
    "        next_node_ids = [n for n in next_node_ids]  # filter\n",
    "        candidate_acts.extend(zip([r] * len(next_node_ids), next_node_ids))\n",
    "\n",
    "    # (3) If candidate action set is empty, only return self-loop action.\n",
    "    if len(candidate_acts) == 0:\n",
    "        actions = [(SELF_LOOP, curr_node_id)]\n",
    "        return actions\n",
    "\n",
    "    # (4) If number of available actions is smaller than max_acts, return action sets.\n",
    "    if len(candidate_acts) <= max_acts:\n",
    "        candidate_acts = sorted(candidate_acts, key=lambda x: (x[0], x[1]))\n",
    "        actions.extend(candidate_acts)\n",
    "        return actions\n",
    "\n",
    "    # (5) If there are too many actions, do some deterministic trimming here!\n",
    "    user_embed = embeds[USER][user]\n",
    "    scores = []\n",
    "    for r, next_node_id in candidate_acts:\n",
    "        next_node_type = KG_RELATION[curr_node_type][r]\n",
    "        if next_node_type == USER:\n",
    "            src_embed = user_embed\n",
    "        elif next_node_type == PRODUCT:\n",
    "            src_embed = user_embed + embeds[PURCHASE][0]\n",
    "        elif next_node_type == WORD:\n",
    "            src_embed = user_embed + embeds[MENTION][0]\n",
    "        else:\n",
    "            src_embed = user_embed + embeds[PURCHASE][0] + embeds[r][0]\n",
    "        score = np.matmul(src_embed, embeds[next_node_type][next_node_id])\n",
    "        scores.append(score)\n",
    "        \n",
    "    candidate_idxs = np.argsort(scores)[-max_acts:]  # choose actions with larger scores\n",
    "    candidate_acts = sorted([candidate_acts[i] for i in candidate_idxs], key=lambda x: (x[0], x[1]))\n",
    "    actions.extend(candidate_acts)\n",
    "    return actions"
   ]
  },
  {
   "cell_type": "code",
   "execution_count": 15,
   "id": "apart-scientist",
   "metadata": {},
   "outputs": [],
   "source": [
    "def ans_cover_rate(step):\n",
    "    anser_cover = {}\n",
    "    for user, trn_item_list in trn_label.items():\n",
    "        total_item = [[USER, user]]\n",
    "        cache = {}\n",
    "        cache[USER] = {}\n",
    "        cache[USER][user] = 1\n",
    "        for _ in range(step):\n",
    "            total_item_tmp = []\n",
    "            for action in total_item:\n",
    "                next_action = get_actions(action, user)\n",
    "\n",
    "                for n_action in next_action:\n",
    "                    curr_node_type, _ = action\n",
    "                    relation, next_node_id = n_action\n",
    "                    if relation == SELF_LOOP: next_node_type = curr_node_type\n",
    "                    else: next_node_type = KG_RELATION[curr_node_type][relation]\n",
    "                    if next_node_type not in cache: cache[next_node_type] = {}\n",
    "                    if next_node_id not in cache[next_node_type]:\n",
    "                        cache[next_node_type][next_node_id] = 1\n",
    "                        total_item_tmp.append([next_node_type, next_node_id])\n",
    "            total_item = total_item_tmp\n",
    "\n",
    "            \n",
    "        if 'product' in cache:\n",
    "            anser_cover[user] = [it for it in cache['product'] if it not in trn_item_list]\n",
    "\n",
    "    evaluate(anser_cover, tst_label)"
   ]
  },
  {
   "cell_type": "code",
   "execution_count": 16,
   "id": "figured-nutrition",
   "metadata": {},
   "outputs": [
    {
     "name": "stdout",
     "output_type": "stream",
     "text": [
      "NDCG=0.000 |  Recall=0.000 | HR=0.000 | Precision=0.000 | Invalid users=0\n",
      "cum_k == 0  10228\n"
     ]
    }
   ],
   "source": [
    "ans_cover_rate(1)"
   ]
  },
  {
   "cell_type": "code",
   "execution_count": 17,
   "id": "single-motion",
   "metadata": {},
   "outputs": [
    {
     "name": "stdout",
     "output_type": "stream",
     "text": [
      "NDCG=2.873 |  Recall=9.242 | HR=21.852 | Precision=0.522 | Invalid users=0\n",
      "cum_k == 0  1\n"
     ]
    }
   ],
   "source": [
    "ans_cover_rate(2)"
   ]
  },
  {
   "cell_type": "code",
   "execution_count": 18,
   "id": "visible-tiffany",
   "metadata": {},
   "outputs": [
    {
     "name": "stdout",
     "output_type": "stream",
     "text": [
      "NDCG=8.035 |  Recall=58.553 | HR=86.381 | Precision=0.071 | Invalid users=0\n",
      "cum_k == 0  0\n"
     ]
    }
   ],
   "source": [
    "ans_cover_rate(3)"
   ]
  },
  {
   "cell_type": "code",
   "execution_count": null,
   "id": "collaborative-engine",
   "metadata": {},
   "outputs": [],
   "source": []
  },
  {
   "cell_type": "code",
   "execution_count": null,
   "id": "acoustic-jenny",
   "metadata": {},
   "outputs": [],
   "source": []
  }
 ],
 "metadata": {
  "kernelspec": {
   "display_name": "Python 3",
   "language": "python",
   "name": "python3"
  },
  "language_info": {
   "codemirror_mode": {
    "name": "ipython",
    "version": 3
   },
   "file_extension": ".py",
   "mimetype": "text/x-python",
   "name": "python",
   "nbconvert_exporter": "python",
   "pygments_lexer": "ipython3",
   "version": "3.8.5"
  }
 },
 "nbformat": 4,
 "nbformat_minor": 5
}
