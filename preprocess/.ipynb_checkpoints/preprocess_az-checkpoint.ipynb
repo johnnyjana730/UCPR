{
 "cells": [
  {
   "cell_type": "code",
   "execution_count": 1,
   "id": "built-pocket",
   "metadata": {},
   "outputs": [],
   "source": [
    "from __future__ import absolute_import, division, print_function\n",
    "\n",
    "import os\n",
    "import pickle\n",
    "import gzip\n",
    "import pandas as pd\n",
    "\n",
    "import sys\n",
    "sys.path.insert(0,'..')\n",
    "\n",
    "from utils import *\n",
    "from dataset import RW_based_dataset, KG_based_dataset\n",
    "from knowledge_graph import RW_based_KG, KG_based_KG\n",
    "import pandas as pd"
   ]
  },
  {
   "cell_type": "code",
   "execution_count": 2,
   "id": "running-edward",
   "metadata": {},
   "outputs": [],
   "source": [
    "class args_class:\n",
    "    def __init__(self):\n",
    "        self.dataset = AZ_BOOK_CORE\n",
    "        self.att_th_lower = 0\n",
    "        self.att_th_upper = 3000\n",
    "        self.user_core_th = 6\n",
    "        self.user_top_k = 6000\n",
    "\n",
    "args = args_class()\n",
    "        \n",
    "if not os.path.isdir(DATA_DIR[args.dataset]):\n",
    "    os.makedirs(DATA_DIR[args.dataset])"
   ]
  },
  {
   "cell_type": "markdown",
   "id": "natural-delta",
   "metadata": {},
   "source": [
    "load review to dataset class"
   ]
  },
  {
   "cell_type": "code",
   "execution_count": 3,
   "id": "technical-deficit",
   "metadata": {},
   "outputs": [
    {
     "name": "stdout",
     "output_type": "stream",
     "text": [
      "Load amazon-book_20core dataset from file...\n",
      "n_user =  70585\n",
      "n_item =  24915\n",
      "n_attribute =  113487\n",
      "self.entity_list =  {'user': {'vocab_size': 70585}, 'product': {'vocab_size': 95500}, 'attribute': {'vocab_size': 184072}}\n"
     ]
    }
   ],
   "source": [
    "print('Load', args.dataset, 'dataset from file...')\n",
    "dataset = KG_based_dataset(args, DATA_DIR[args.dataset])"
   ]
  },
  {
   "cell_type": "markdown",
   "id": "coral-billion",
   "metadata": {},
   "source": [
    "generate train and test label by filtered users"
   ]
  },
  {
   "cell_type": "code",
   "execution_count": 4,
   "id": "involved-hello",
   "metadata": {},
   "outputs": [],
   "source": [
    "def kg_labels_filter(core_user_list, dataset, mode='train'):\n",
    "\n",
    "    rating_file = DATA_DIR[dataset] + '/ratings_final'\n",
    "    rating_np = np.load(rating_file + '.npy')\n",
    "    n_user = max(set(rating_np[:, 0])) + 1\n",
    "    data = pd.read_csv(f'{DATA_DIR[dataset]}/{mode}_pd.csv',index_col=None)\n",
    "    data = data.drop(data.columns[0], axis=1)\n",
    "    data = data[['user','item','like']].values\n",
    "\n",
    "    seen = {'user':{}, 'items':{}}\n",
    "    user_products = {}  # {uid: [pid,...], ...}\n",
    "    for row in data:\n",
    "        user_idx, product_idx, like = row[0], row[1]  + n_user, row[2]\n",
    "        if like == 0: continue\n",
    "        if user_idx in core_user_list:\n",
    "            if user_idx not in user_products:\n",
    "                user_products[user_idx] = []\n",
    "            user_products[user_idx].append(product_idx)\n",
    "            if user_idx not in seen['user']:  seen['user'][user_idx] = len(seen['user'])\n",
    "            if product_idx not in seen['items']: seen['items'][product_idx] = len(seen['items'])\n",
    "\n",
    "    print('seen.user, seen.items = ', len(seen['user']), len(seen['items']))\n",
    "    return user_products"
   ]
  },
  {
   "cell_type": "code",
   "execution_count": 5,
   "id": "featured-contrast",
   "metadata": {},
   "outputs": [
    {
     "name": "stdout",
     "output_type": "stream",
     "text": [
      "generate filter label amazon-book_20core knowledge graph from dataset...\n",
      "seen.user, seen.items =  6000 9822\n",
      "seen.user, seen.items =  5957 9181\n"
     ]
    }
   ],
   "source": [
    "print('generate filter label', args.dataset, 'knowledge graph from dataset...')\n",
    "core_user_list = dataset.core_user_list\n",
    "trn_label = kg_labels_filter(core_user_list, args.dataset, 'train')\n",
    "tst_label = kg_labels_filter(core_user_list, args.dataset, 'test')"
   ]
  },
  {
   "cell_type": "code",
   "execution_count": 6,
   "id": "nonprofit-interpretation",
   "metadata": {},
   "outputs": [
    {
     "name": "stdout",
     "output_type": "stream",
     "text": [
      "build amazon-book_20core knowledge graph from dataset...\n",
      "Remove duplicates...\n",
      "relation =  {'purchase': [['user', 0, 'purchase', 70586], ['product', 70586, 'purchase', 0], ['user', 0, 'purchase', 70588], ['product', 70588, 'purchase', 0], ['user', 0, 'purchase', 70589], ['product', 70589, 'purchase', 0], ['user', 0, 'purchase', 70592], ['product', 70592, 'purchase', 0], ['user', 0, 'purchase', 70596], ['product', 70596, 'purchase', 0], ['user', 0, 'purchase', 70600], ['product', 70600, 'purchase', 0], ['user', 0, 'purchase', 70602], ['product', 70602, 'purchase', 0], ['user', 0, 'purchase', 70603], ['product', 70603, 'purchase', 0], ['user', 0, 'purchase', 70605], ['product', 70605, 'purchase', 0], ['user', 0, 'purchase', 70609], ['product', 70609, 'purchase', 0], ['user', 0, 'purchase', 70612], ['product', 70612, 'purchase', 0], ['user', 0, 'purchase', 70613], ['product', 70613, 'purchase', 0], ['user', 0, 'purchase', 70616], ['product', 70616, 'purchase', 0], ['user', 2, 'purchase', 70621], ['product', 70621, 'purchase', 2], ['user', 2, 'purchase', 70623], ['product', 70623, 'purchase', 2]], '4': [['attribute', 102014, '4', 96467], ['attribute', 96467, '4', 102014], ['attribute', 102233, '4', 96467], ['attribute', 96467, '4', 102233], ['attribute', 101670, '4', 96467], ['attribute', 96467, '4', 101670], ['attribute', 106718, '4', 96467], ['attribute', 96467, '4', 106718], ['product', 74103, '4', 112844], ['attribute', 112844, '4', 74103], ['attribute', 100907, '4', 99975], ['attribute', 99975, '4', 100907], ['attribute', 114790, '4', 110887], ['attribute', 110887, '4', 114790], ['attribute', 117064, '4', 96467], ['attribute', 96467, '4', 117064], ['attribute', 89364, '4', 96467], ['attribute', 96467, '4', 89364], ['attribute', 114953, '4', 110887], ['attribute', 110887, '4', 114953], ['attribute', 78817, '4', 96467], ['attribute', 96467, '4', 78817], ['attribute', 94448, '4', 96467], ['attribute', 96467, '4', 94448], ['attribute', 129391, '4', 99975], ['attribute', 99975, '4', 129391], ['attribute', 158464, '4', 110887], ['attribute', 110887, '4', 158464], ['attribute', 108547, '4', 96467], ['attribute', 96467, '4', 108547]], '22': [['attribute', 98733, '22', 98734], ['attribute', 98734, '22', 98733], ['attribute', 100169, '22', 100170], ['attribute', 100170, '22', 100169], ['attribute', 102469, '22', 100170], ['attribute', 100170, '22', 102469], ['attribute', 104929, '22', 104930], ['attribute', 104930, '22', 104929], ['attribute', 104957, '22', 104930], ['attribute', 104930, '22', 104957], ['attribute', 106428, '22', 104930], ['attribute', 104930, '22', 106428], ['attribute', 99090, '22', 109318], ['attribute', 109318, '22', 99090], ['attribute', 110152, '22', 104930], ['attribute', 104930, '22', 110152], ['attribute', 108197, '22', 114530], ['attribute', 114530, '22', 108197], ['attribute', 104229, '22', 99944], ['attribute', 99944, '22', 104229], ['product', 77663, '22', 100170], ['attribute', 100170, '22', 77663], ['product', 71305, '22', 100170], ['attribute', 100170, '22', 71305], ['attribute', 84561, '22', 104930], ['attribute', 104930, '22', 84561], ['product', 74099, '22', 100170], ['attribute', 100170, '22', 74099], ['attribute', 127785, '22', 104930], ['attribute', 104930, '22', 127785]], '30': [['attribute', 99639, '30', 80714], ['attribute', 80714, '30', 99639], ['attribute', 97100, '30', 74231], ['product', 74231, '30', 97100], ['attribute', 113343, '30', 74115], ['product', 74115, '30', 113343], ['attribute', 118234, '30', 117253], ['attribute', 117253, '30', 118234], ['attribute', 127470, '30', 73636], ['product', 73636, '30', 127470], ['attribute', 137304, '30', 132136], ['attribute', 132136, '30', 137304], ['attribute', 146233, '30', 93344], ['attribute', 93344, '30', 146233], ['attribute', 132631, '30', 147631], ['attribute', 147631, '30', 132631], ['attribute', 137304, '30', 76160], ['attribute', 76160, '30', 137304], ['attribute', 149035, '30', 99711], ['attribute', 99711, '30', 149035], ['attribute', 154789, '30', 71941], ['product', 71941, '30', 154789], ['attribute', 97390, '30', 74990], ['product', 74990, '30', 97390], ['attribute', 154789, '30', 81994], ['product', 81994, '30', 154789], ['attribute', 158181, '30', 152331], ['attribute', 152331, '30', 158181], ['attribute', 146389, '30', 78920], ['product', 78920, '30', 146389]], '10': [['attribute', 95560, '10', 95561], ['attribute', 95561, '10', 95560], ['attribute', 76161, '10', 95728], ['attribute', 95728, '10', 76161], ['product', 91439, '10', 95759], ['attribute', 95759, '10', 91439], ['product', 93538, '10', 95789], ['attribute', 95789, '10', 93538], ['attribute', 89594, '10', 95807], ['attribute', 95807, '10', 89594], ['product', 86711, '10', 95834], ['attribute', 95834, '10', 86711], ['attribute', 95842, '10', 95843], ['attribute', 95843, '10', 95842], ['attribute', 95848, '10', 95849], ['attribute', 95849, '10', 95848], ['attribute', 87989, '10', 96021], ['attribute', 96021, '10', 87989], ['attribute', 96068, '10', 96069], ['attribute', 96069, '10', 96068], ['attribute', 96130, '10', 96131], ['attribute', 96131, '10', 96130], ['attribute', 96133, '10', 96134], ['attribute', 96134, '10', 96133], ['attribute', 96184, '10', 96185], ['attribute', 96185, '10', 96184], ['product', 89770, '10', 96248], ['attribute', 96248, '10', 89770], ['attribute', 96257, '10', 96258], ['attribute', 96258, '10', 96257]], '24': [['attribute', 96653, '24', 96654], ['attribute', 96654, '24', 96653], ['attribute', 136076, '24', 96654], ['attribute', 96654, '24', 136076], ['attribute', 96985, '24', 98281], ['attribute', 98281, '24', 96985], ['product', 77931, '24', 96654], ['attribute', 96654, '24', 77931], ['attribute', 87152, '24', 109420], ['attribute', 109420, '24', 87152], ['attribute', 95649, '24', 125573], ['attribute', 125573, '24', 95649], ['attribute', 86398, '24', 96654], ['attribute', 96654, '24', 86398], ['attribute', 101544, '24', 96654], ['attribute', 96654, '24', 101544], ['attribute', 159556, '24', 98281], ['attribute', 98281, '24', 159556], ['attribute', 163530, '24', 109420], ['attribute', 109420, '24', 163530], ['attribute', 102014, '24', 96654], ['attribute', 96654, '24', 102014], ['attribute', 77241, '24', 96654], ['attribute', 96654, '24', 77241], ['attribute', 152862, '24', 96654], ['attribute', 96654, '24', 152862], ['attribute', 94242, '24', 98281], ['attribute', 98281, '24', 94242], ['attribute', 115555, '24', 96654], ['attribute', 96654, '24', 115555]], '32': [], '9': [['attribute', 96167, '9', 96168], ['attribute', 96168, '9', 96167], ['attribute', 96832, '9', 96833], ['attribute', 96833, '9', 96832], ['attribute', 97378, '9', 88925], ['attribute', 88925, '9', 97378], ['attribute', 97480, '9', 70852], ['product', 70852, '9', 97480], ['attribute', 96167, '9', 79108], ['product', 79108, '9', 96167], ['attribute', 97648, '9', 70674], ['product', 70674, '9', 97648], ['attribute', 96125, '9', 79519], ['attribute', 79519, '9', 96125], ['attribute', 99704, '9', 74856], ['product', 74856, '9', 99704], ['attribute', 99794, '9', 79285], ['attribute', 79285, '9', 99794], ['attribute', 97530, '9', 86986], ['attribute', 86986, '9', 97530], ['attribute', 100316, '9', 82254], ['attribute', 82254, '9', 100316], ['attribute', 98281, '9', 100826], ['attribute', 100826, '9', 98281], ['attribute', 100934, '9', 97316], ['attribute', 97316, '9', 100934], ['attribute', 101558, '9', 76649], ['product', 76649, '9', 101558], ['attribute', 101607, '9', 94243], ['attribute', 94243, '9', 101607]], '11': [['attribute', 87238, '11', 96443], ['attribute', 96443, '11', 87238], ['attribute', 81512, '11', 98889], ['attribute', 98889, '11', 81512], ['product', 71025, '11', 104021], ['attribute', 104021, '11', 71025], ['attribute', 77993, '11', 104639], ['attribute', 104639, '11', 77993], ['attribute', 103443, '11', 104021], ['attribute', 104021, '11', 103443], ['product', 76201, '11', 110100], ['attribute', 110100, '11', 76201], ['attribute', 110275, '11', 96443], ['attribute', 96443, '11', 110275], ['attribute', 111920, '11', 111921], ['attribute', 111921, '11', 111920], ['attribute', 99006, '11', 113628], ['attribute', 113628, '11', 99006], ['product', 77080, '11', 113628], ['attribute', 113628, '11', 77080], ['attribute', 116919, '11', 116920], ['attribute', 116920, '11', 116919], ['attribute', 86099, '11', 96443], ['attribute', 96443, '11', 86099], ['attribute', 119148, '11', 104021], ['attribute', 104021, '11', 119148], ['attribute', 119704, '11', 111921], ['attribute', 111921, '11', 119704], ['product', 77873, '11', 104021], ['attribute', 104021, '11', 77873]], '19': [['attribute', 95937, '19', 95938], ['attribute', 95938, '19', 95937], ['attribute', 96213, '19', 96214], ['attribute', 96214, '19', 96213], ['attribute', 96340, '19', 96341], ['attribute', 96341, '19', 96340], ['attribute', 93301, '19', 96489], ['attribute', 96489, '19', 93301], ['product', 72436, '19', 96772], ['attribute', 96772, '19', 72436], ['attribute', 97439, '19', 97440], ['attribute', 97440, '19', 97439], ['attribute', 97537, '19', 97538], ['attribute', 97538, '19', 97537], ['attribute', 97571, '19', 97572], ['attribute', 97572, '19', 97571], ['attribute', 97614, '19', 97615], ['attribute', 97615, '19', 97614], ['attribute', 97777, '19', 97778], ['attribute', 97778, '19', 97777], ['product', 80451, '19', 98059], ['attribute', 98059, '19', 80451], ['attribute', 95203, '19', 98386], ['attribute', 98386, '19', 95203], ['attribute', 98753, '19', 98754], ['attribute', 98754, '19', 98753], ['product', 74830, '19', 98829], ['attribute', 98829, '19', 74830], ['attribute', 99059, '19', 95772], ['attribute', 95772, '19', 99059]], '26': [['attribute', 97693, '26', 97694], ['attribute', 97694, '26', 97693], ['product', 73817, '26', 98145], ['attribute', 98145, '26', 73817], ['attribute', 101361, '26', 101362], ['attribute', 101362, '26', 101361], ['attribute', 111147, '26', 119977], ['attribute', 119977, '26', 111147], ['product', 71340, '26', 98145], ['attribute', 98145, '26', 71340], ['attribute', 122958, '26', 122959], ['attribute', 122959, '26', 122958], ['attribute', 109523, '26', 98145], ['attribute', 98145, '26', 109523], ['attribute', 104929, '26', 98145], ['attribute', 98145, '26', 104929], ['attribute', 84561, '26', 98145], ['attribute', 98145, '26', 84561], ['attribute', 110846, '26', 101362], ['attribute', 101362, '26', 110846], ['attribute', 129476, '26', 98145], ['attribute', 98145, '26', 129476], ['attribute', 125934, '26', 116254], ['attribute', 116254, '26', 125934], ['attribute', 108512, '26', 122959], ['attribute', 122959, '26', 108512], ['attribute', 142919, '26', 98145], ['attribute', 98145, '26', 142919], ['attribute', 111813, '26', 98145], ['attribute', 98145, '26', 111813]], '6': [], 'self_loop': [], '16': [['attribute', 95715, '16', 95716], ['attribute', 95716, '16', 95715], ['attribute', 96269, '16', 70777], ['product', 70777, '16', 96269], ['attribute', 96433, '16', 82341], ['attribute', 82341, '16', 96433], ['attribute', 96874, '16', 80450], ['attribute', 80450, '16', 96874], ['attribute', 96767, '16', 97622], ['attribute', 97622, '16', 96767], ['attribute', 97979, '16', 97980], ['attribute', 97980, '16', 97979], ['attribute', 96767, '16', 97990], ['attribute', 97990, '16', 96767], ['attribute', 98366, '16', 98367], ['attribute', 98367, '16', 98366], ['attribute', 99140, '16', 99141], ['attribute', 99141, '16', 99140], ['attribute', 100245, '16', 72428], ['product', 72428, '16', 100245], ['attribute', 100927, '16', 76357], ['product', 76357, '16', 100927], ['attribute', 97979, '16', 101462], ['attribute', 101462, '16', 97979], ['attribute', 101634, '16', 82683], ['attribute', 82683, '16', 101634], ['attribute', 101862, '16', 101863], ['attribute', 101863, '16', 101862], ['attribute', 102287, '16', 102288], ['attribute', 102288, '16', 102287]], '28': [['attribute', 96654, '28', 94335], ['attribute', 94335, '28', 96654], ['attribute', 96654, '28', 108655], ['attribute', 108655, '28', 96654], ['attribute', 100396, '28', 98528], ['attribute', 98528, '28', 100396], ['attribute', 96654, '28', 116247], ['attribute', 116247, '28', 96654], ['attribute', 96654, '28', 140133], ['attribute', 140133, '28', 96654], ['attribute', 109420, '28', 99432], ['attribute', 99432, '28', 109420], ['attribute', 101607, '28', 89140], ['product', 89140, '28', 101607], ['attribute', 96654, '28', 86398], ['attribute', 86398, '28', 96654], ['attribute', 101607, '28', 128021], ['attribute', 128021, '28', 101607], ['attribute', 96654, '28', 155684], ['attribute', 155684, '28', 96654], ['attribute', 154344, '28', 95649], ['attribute', 95649, '28', 154344], ['attribute', 96654, '28', 79331], ['attribute', 79331, '28', 96654], ['attribute', 101607, '28', 98337], ['attribute', 98337, '28', 101607], ['attribute', 98281, '28', 98716], ['attribute', 98716, '28', 98281], ['attribute', 109125, '28', 138394], ['attribute', 138394, '28', 109125]], '15': [['attribute', 77620, '15', 74169], ['product', 74169, '15', 77620], ['attribute', 91335, '15', 91497], ['attribute', 91497, '15', 91335], ['product', 78362, '15', 73228], ['product', 73228, '15', 78362], ['attribute', 86523, '15', 93013], ['attribute', 93013, '15', 86523], ['attribute', 98825, '15', 98826], ['attribute', 98826, '15', 98825], ['product', 91603, '15', 76628], ['product', 76628, '15', 91603], ['attribute', 85126, '15', 74077], ['product', 74077, '15', 85126], ['product', 92864, '15', 74087], ['product', 74087, '15', 92864], ['attribute', 95706, '15', 72290], ['product', 72290, '15', 95706], ['attribute', 104031, '15', 75910], ['attribute', 75910, '15', 104031], ['product', 70809, '15', 92083], ['attribute', 92083, '15', 70809], ['product', 88948, '15', 91172], ['product', 91172, '15', 88948], ['product', 82936, '15', 82828], ['product', 82828, '15', 82936], ['attribute', 107509, '15', 107510], ['attribute', 107510, '15', 107509], ['attribute', 108450, '15', 80631], ['product', 80631, '15', 108450]], '2': [], '23': [['attribute', 96606, '23', 96607], ['attribute', 96607, '23', 96606], ['attribute', 106065, '23', 106066], ['attribute', 106066, '23', 106065], ['attribute', 108197, '23', 108198], ['attribute', 108198, '23', 108197], ['attribute', 122686, '23', 106066], ['attribute', 106066, '23', 122686], ['attribute', 144808, '23', 108978], ['attribute', 108978, '23', 144808], ['attribute', 145422, '23', 108198], ['attribute', 108198, '23', 145422], ['attribute', 128648, '23', 106066], ['attribute', 106066, '23', 128648], ['attribute', 146752, '23', 96607], ['attribute', 96607, '23', 146752], ['attribute', 109753, '23', 106066], ['attribute', 106066, '23', 109753], ['attribute', 107355, '23', 106066], ['attribute', 106066, '23', 107355], ['attribute', 160237, '23', 106066], ['attribute', 106066, '23', 160237], ['attribute', 77869, '23', 98189], ['attribute', 98189, '23', 77869], ['attribute', 71343, '23', 106066], ['attribute', 106066, '23', 71343], ['attribute', 140386, '23', 106066], ['attribute', 106066, '23', 140386], ['attribute', 164034, '23', 106066], ['attribute', 106066, '23', 164034]], '20': [['product', 80766, '20', 85321], ['product', 85321, '20', 80766], ['attribute', 97681, '20', 97682], ['attribute', 97682, '20', 97681], ['product', 72880, '20', 72897], ['product', 72897, '20', 72880], ['product', 79096, '20', 73394], ['product', 73394, '20', 79096], ['attribute', 80984, '20', 84210], ['attribute', 84210, '20', 80984], ['product', 92585, '20', 92586], ['attribute', 92586, '20', 92585], ['attribute', 102429, '20', 102430], ['attribute', 102430, '20', 102429], ['attribute', 86068, '20', 95227], ['attribute', 95227, '20', 86068], ['product', 80012, '20', 80013], ['product', 80013, '20', 80012], ['product', 79327, '20', 76443], ['product', 76443, '20', 79327], ['product', 77979, '20', 80009], ['attribute', 80009, '20', 77979], ['attribute', 106285, '20', 106286], ['attribute', 106286, '20', 106285], ['attribute', 106522, '20', 106523], ['attribute', 106523, '20', 106522], ['product', 76401, '20', 82670], ['product', 82670, '20', 76401], ['product', 93892, '20', 89930], ['product', 89930, '20', 93892]], '34': [['attribute', 101285, '34', 90516], ['attribute', 90516, '34', 101285], ['attribute', 98145, '34', 70651], ['attribute', 70651, '34', 98145], ['attribute', 113896, '34', 113897], ['attribute', 113897, '34', 113896], ['attribute', 116254, '34', 98981], ['attribute', 98981, '34', 116254], ['attribute', 98145, '34', 118961], ['attribute', 118961, '34', 98145], ['attribute', 101285, '34', 123806], ['attribute', 123806, '34', 101285], ['attribute', 97694, '34', 124557], ['attribute', 124557, '34', 97694], ['attribute', 101285, '34', 129476], ['attribute', 129476, '34', 101285], ['attribute', 97694, '34', 107176], ['attribute', 107176, '34', 97694], ['attribute', 98145, '34', 140026], ['attribute', 140026, '34', 98145], ['attribute', 98145, '34', 141231], ['attribute', 141231, '34', 98145], ['attribute', 122959, '34', 146571], ['attribute', 146571, '34', 122959], ['attribute', 101285, '34', 151709], ['attribute', 151709, '34', 101285], ['attribute', 154344, '34', 107176], ['attribute', 107176, '34', 154344], ['attribute', 98145, '34', 75764], ['product', 75764, '34', 98145]], '25': [['attribute', 97099, '25', 97100], ['attribute', 97100, '25', 97099], ['product', 74991, '25', 97390], ['attribute', 97390, '25', 74991], ['attribute', 100009, '25', 100010], ['attribute', 100010, '25', 100009], ['attribute', 102409, '25', 102410], ['attribute', 102410, '25', 102409], ['product', 88385, '25', 123774], ['attribute', 123774, '25', 88385], ['product', 71476, '25', 113343], ['attribute', 113343, '25', 71476], ['attribute', 118749, '25', 128558], ['attribute', 128558, '25', 118749], ['attribute', 80627, '25', 132631], ['attribute', 132631, '25', 80627], ['attribute', 134677, '25', 134678], ['attribute', 134678, '25', 134677], ['product', 75589, '25', 97100], ['attribute', 97100, '25', 75589], ['product', 81334, '25', 141132], ['attribute', 141132, '25', 81334], ['attribute', 109790, '25', 137304], ['attribute', 137304, '25', 109790], ['product', 72205, '25', 146389], ['attribute', 146389, '25', 72205], ['attribute', 135136, '25', 128558], ['attribute', 128558, '25', 135136], ['attribute', 106348, '25', 97390], ['attribute', 97390, '25', 106348]], '12': [['attribute', 99090, '12', 98734], ['attribute', 98734, '12', 99090], ['attribute', 99943, '12', 99944], ['attribute', 99944, '12', 99943], ['product', 75764, '12', 101460], ['attribute', 101460, '12', 75764], ['attribute', 111721, '12', 99944], ['attribute', 99944, '12', 111721], ['attribute', 92551, '12', 115871], ['attribute', 115871, '12', 92551], ['attribute', 70651, '12', 101460], ['attribute', 101460, '12', 70651], ['attribute', 122794, '12', 102433], ['attribute', 102433, '12', 122794], ['attribute', 111721, '12', 101460], ['attribute', 101460, '12', 111721], ['attribute', 125180, '12', 101460], ['attribute', 101460, '12', 125180], ['product', 95397, '12', 130908], ['attribute', 130908, '12', 95397], ['attribute', 101361, '12', 101460], ['attribute', 101460, '12', 101361], ['attribute', 114919, '12', 99944], ['attribute', 99944, '12', 114919], ['attribute', 132264, '12', 98734], ['attribute', 98734, '12', 132264], ['attribute', 87633, '12', 115871], ['attribute', 115871, '12', 87633], ['attribute', 80324, '12', 115871], ['attribute', 115871, '12', 80324]], '21': [['attribute', 96292, '21', 96293], ['attribute', 96293, '21', 96292], ['attribute', 101226, '21', 101227], ['attribute', 101227, '21', 101226], ['attribute', 100612, '21', 110622], ['attribute', 110622, '21', 100612], ['attribute', 111576, '21', 111577], ['attribute', 111577, '21', 111576], ['product', 88566, '21', 114125], ['attribute', 114125, '21', 88566], ['attribute', 121791, '21', 121792], ['attribute', 121792, '21', 121791], ['attribute', 121977, '21', 121978], ['attribute', 121978, '21', 121977], ['attribute', 122277, '21', 98998], ['attribute', 98998, '21', 122277], ['attribute', 125224, '21', 125225], ['attribute', 125225, '21', 125224], ['attribute', 125636, '21', 126342], ['attribute', 126342, '21', 125636], ['attribute', 104456, '21', 126468], ['attribute', 126468, '21', 104456], ['attribute', 129898, '21', 129899], ['attribute', 129899, '21', 129898], ['attribute', 130877, '21', 130878], ['attribute', 130878, '21', 130877], ['attribute', 135052, '21', 135053], ['attribute', 135053, '21', 135052], ['attribute', 132334, '21', 125225], ['attribute', 125225, '21', 132334]], '14': [['attribute', 95611, '14', 95612], ['attribute', 95612, '14', 95611], ['attribute', 95613, '14', 95614], ['attribute', 95614, '14', 95613], ['attribute', 95615, '14', 90001], ['attribute', 90001, '14', 95615], ['attribute', 95631, '14', 95632], ['attribute', 95632, '14', 95631], ['attribute', 95652, '14', 95653], ['attribute', 95653, '14', 95652], ['attribute', 95681, '14', 95682], ['attribute', 95682, '14', 95681], ['attribute', 95704, '14', 95705], ['attribute', 95705, '14', 95704], ['attribute', 95776, '14', 95777], ['attribute', 95777, '14', 95776], ['attribute', 95779, '14', 95780], ['attribute', 95780, '14', 95779], ['attribute', 95787, '14', 95788], ['attribute', 95788, '14', 95787], ['attribute', 95810, '14', 95811], ['attribute', 95811, '14', 95810], ['attribute', 95836, '14', 95837], ['attribute', 95837, '14', 95836], ['attribute', 95863, '14', 75907], ['product', 75907, '14', 95863], ['attribute', 95920, '14', 95921], ['attribute', 95921, '14', 95920], ['attribute', 96261, '14', 93853], ['attribute', 93853, '14', 96261]], '13': [['attribute', 95600, '13', 95601], ['attribute', 95601, '13', 95600], ['attribute', 96320, '13', 96321], ['attribute', 96321, '13', 96320], ['attribute', 78952, '13', 96167], ['attribute', 96167, '13', 78952], ['attribute', 97445, '13', 97446], ['attribute', 97446, '13', 97445], ['attribute', 83886, '13', 97530], ['attribute', 97530, '13', 83886], ['product', 73150, '13', 96125], ['attribute', 96125, '13', 73150], ['attribute', 89208, '13', 96654], ['attribute', 96654, '13', 89208], ['attribute', 98209, '13', 98210], ['attribute', 98210, '13', 98209], ['attribute', 98280, '13', 98281], ['attribute', 98281, '13', 98280], ['attribute', 91379, '13', 98281], ['attribute', 98281, '13', 91379], ['attribute', 98796, '13', 98797], ['attribute', 98797, '13', 98796], ['attribute', 73072, '13', 99252], ['attribute', 99252, '13', 73072], ['attribute', 99551, '13', 97857], ['attribute', 97857, '13', 99551], ['product', 91660, '13', 96167], ['attribute', 96167, '13', 91660], ['attribute', 99616, '13', 97480], ['attribute', 97480, '13', 99616]], '33': [['attribute', 101097, '33', 101098], ['attribute', 101098, '33', 101097], ['attribute', 102432, '33', 102433], ['attribute', 102433, '33', 102432], ['attribute', 113155, '33', 102433], ['attribute', 102433, '33', 113155], ['attribute', 86747, '33', 101098], ['attribute', 101098, '33', 86747], ['attribute', 119805, '33', 101098], ['attribute', 101098, '33', 119805], ['attribute', 90667, '33', 102433], ['attribute', 102433, '33', 90667], ['attribute', 121438, '33', 101098], ['attribute', 101098, '33', 121438], ['attribute', 111592, '33', 101098], ['attribute', 101098, '33', 111592], ['attribute', 86050, '33', 102433], ['attribute', 102433, '33', 86050], ['attribute', 79133, '33', 101098], ['attribute', 101098, '33', 79133], ['attribute', 133694, '33', 101098], ['attribute', 101098, '33', 133694], ['attribute', 118026, '33', 101098], ['attribute', 101098, '33', 118026], ['attribute', 96268, '33', 102433], ['attribute', 102433, '33', 96268], ['attribute', 122192, '33', 101098], ['attribute', 101098, '33', 122192], ['product', 85160, '33', 101098], ['attribute', 101098, '33', 85160]], '36': [['attribute', 109682, '36', 109683], ['attribute', 109683, '36', 109682], ['attribute', 79234, '36', 131544], ['attribute', 131544, '36', 79234], ['product', 79592, '36', 128506], ['attribute', 128506, '36', 79592], ['attribute', 89817, '36', 137968], ['attribute', 137968, '36', 89817], ['attribute', 138306, '36', 138307], ['attribute', 138307, '36', 138306], ['attribute', 146058, '36', 138307], ['attribute', 138307, '36', 146058], ['attribute', 75081, '36', 138307], ['attribute', 138307, '36', 75081], ['attribute', 144150, '36', 109683], ['attribute', 109683, '36', 144150], ['attribute', 154379, '36', 154380], ['attribute', 154380, '36', 154379], ['attribute', 104196, '36', 154380], ['attribute', 154380, '36', 104196], ['product', 74297, '36', 106765], ['attribute', 106765, '36', 74297], ['attribute', 95202, '36', 137258], ['attribute', 137258, '36', 95202], ['product', 79610, '36', 100030], ['attribute', 100030, '36', 79610], ['attribute', 150333, '36', 129710], ['attribute', 129710, '36', 150333], ['product', 76396, '36', 177673], ['attribute', 177673, '36', 76396]], 'padding': [], '29': [['product', 82979, '29', 98998], ['attribute', 98998, '29', 82979], ['attribute', 103406, '29', 103407], ['attribute', 103407, '29', 103406], ['product', 73203, '29', 115497], ['attribute', 115497, '29', 73203], ['attribute', 82926, '29', 130655], ['attribute', 130655, '29', 82926], ['attribute', 106945, '29', 126342], ['attribute', 126342, '29', 106945], ['product', 70792, '29', 133585], ['attribute', 133585, '29', 70792], ['attribute', 136798, '29', 136799], ['attribute', 136799, '29', 136798], ['attribute', 107150, '29', 130878], ['attribute', 130878, '29', 107150], ['attribute', 100936, '29', 140833], ['attribute', 140833, '29', 100936], ['attribute', 101466, '29', 151851], ['attribute', 151851, '29', 101466], ['attribute', 153415, '29', 153416], ['attribute', 153416, '29', 153415], ['product', 87561, '29', 114125], ['attribute', 114125, '29', 87561], ['attribute', 155046, '29', 155047], ['attribute', 155047, '29', 155046], ['attribute', 97367, '29', 130878], ['attribute', 130878, '29', 97367], ['attribute', 130396, '29', 140833], ['attribute', 140833, '29', 130396]], '0': [['attribute', 95544, '0', 95545], ['attribute', 95545, '0', 95544], ['attribute', 76257, '0', 95936], ['attribute', 95936, '0', 76257], ['attribute', 96075, '0', 96076], ['attribute', 96076, '0', 96075], ['attribute', 96839, '0', 96840], ['attribute', 96840, '0', 96839], ['attribute', 79235, '0', 96996], ['attribute', 96996, '0', 79235], ['product', 78202, '0', 96467], ['attribute', 96467, '0', 78202], ['product', 79446, '0', 95664], ['attribute', 95664, '0', 79446], ['product', 75949, '0', 95545], ['attribute', 95545, '0', 75949], ['attribute', 99974, '0', 99975], ['attribute', 99975, '0', 99974], ['attribute', 100266, '0', 99975], ['attribute', 99975, '0', 100266], ['attribute', 100749, '0', 100750], ['attribute', 100750, '0', 100749], ['product', 75962, '0', 98312], ['attribute', 98312, '0', 75962], ['attribute', 97343, '0', 96467], ['attribute', 96467, '0', 97343], ['attribute', 101881, '0', 101882], ['attribute', 101882, '0', 101881], ['attribute', 79733, '0', 95936], ['attribute', 95936, '0', 79733]], '1': [['attribute', 95664, '1', 95665], ['attribute', 95665, '1', 95664], ['attribute', 96247, '1', 88609], ['attribute', 88609, '1', 96247], ['attribute', 96467, '1', 77241], ['attribute', 77241, '1', 96467], ['attribute', 97000, '1', 97001], ['attribute', 97001, '1', 97000], ['attribute', 98136, '1', 98137], ['attribute', 98137, '1', 98136], ['attribute', 98312, '1', 81217], ['product', 81217, '1', 98312], ['attribute', 98978, '1', 98979], ['attribute', 98979, '1', 98978], ['attribute', 99975, '1', 100148], ['attribute', 100148, '1', 99975], ['attribute', 95664, '1', 72933], ['product', 72933, '1', 95664], ['attribute', 95936, '1', 86024], ['attribute', 86024, '1', 95936], ['attribute', 95936, '1', 100664], ['attribute', 100664, '1', 95936], ['attribute', 95664, '1', 77912], ['product', 77912, '1', 95664], ['attribute', 101825, '1', 93864], ['attribute', 93864, '1', 101825], ['attribute', 95664, '1', 92239], ['attribute', 92239, '1', 95664], ['attribute', 101882, '1', 84687], ['attribute', 84687, '1', 101882]], '18': [['attribute', 95925, '18', 95926], ['attribute', 95926, '18', 95925], ['attribute', 96051, '18', 96052], ['attribute', 96052, '18', 96051], ['attribute', 96766, '18', 96767], ['attribute', 96767, '18', 96766], ['product', 74927, '18', 97056], ['attribute', 97056, '18', 74927], ['attribute', 97473, '18', 97474], ['attribute', 97474, '18', 97473], ['attribute', 97708, '18', 97709], ['attribute', 97709, '18', 97708], ['attribute', 80397, '18', 97863], ['attribute', 97863, '18', 80397], ['product', 84947, '18', 98042], ['attribute', 98042, '18', 84947], ['attribute', 98177, '18', 98178], ['attribute', 98178, '18', 98177], ['attribute', 99725, '18', 99726], ['attribute', 99726, '18', 99725], ['attribute', 99855, '18', 99856], ['attribute', 99856, '18', 99855], ['attribute', 74805, '18', 100641], ['attribute', 100641, '18', 74805], ['product', 83494, '18', 100710], ['attribute', 100710, '18', 83494], ['product', 73659, '18', 101244], ['attribute', 101244, '18', 73659], ['product', 74946, '18', 101484], ['attribute', 101484, '18', 74946]], '7': [['attribute', 95231, '7', 102586], ['attribute', 102586, '7', 95231], ['attribute', 104130, '7', 104131], ['attribute', 104131, '7', 104130], ['attribute', 104341, '7', 104342], ['attribute', 104342, '7', 104341], ['attribute', 104358, '7', 104359], ['attribute', 104359, '7', 104358], ['attribute', 84310, '7', 104986], ['attribute', 104986, '7', 84310], ['attribute', 100939, '7', 104131], ['attribute', 104131, '7', 100939], ['attribute', 88002, '7', 104359], ['attribute', 104359, '7', 88002], ['attribute', 77146, '7', 102586], ['attribute', 102586, '7', 77146], ['attribute', 107818, '7', 104342], ['attribute', 104342, '7', 107818], ['attribute', 86564, '7', 104131], ['attribute', 104131, '7', 86564], ['attribute', 79510, '7', 102586], ['attribute', 102586, '7', 79510], ['attribute', 115230, '7', 104986], ['attribute', 104986, '7', 115230], ['attribute', 110526, '7', 102586], ['attribute', 102586, '7', 110526], ['attribute', 107841, '7', 104131], ['attribute', 104131, '7', 107841], ['attribute', 116862, '7', 102586], ['attribute', 102586, '7', 116862]], '5': [['attribute', 95512, '5', 95513], ['attribute', 95513, '5', 95512], ['attribute', 95533, '5', 95534], ['attribute', 95534, '5', 95533], ['product', 72879, '5', 95591], ['attribute', 95591, '5', 72879], ['product', 80339, '5', 95622], ['attribute', 95622, '5', 80339], ['attribute', 95629, '5', 95630], ['attribute', 95630, '5', 95629], ['attribute', 95729, '5', 95730], ['attribute', 95730, '5', 95729], ['attribute', 95785, '5', 95786], ['attribute', 95786, '5', 95785], ['attribute', 95899, '5', 95900], ['attribute', 95900, '5', 95899], ['product', 74370, '5', 95941], ['attribute', 95941, '5', 74370], ['attribute', 95942, '5', 95943], ['attribute', 95943, '5', 95942], ['attribute', 96035, '5', 96036], ['attribute', 96036, '5', 96035], ['product', 72112, '5', 96125], ['attribute', 96125, '5', 72112], ['product', 72142, '5', 96149], ['attribute', 96149, '5', 72142], ['attribute', 96194, '5', 96195], ['attribute', 96195, '5', 96194], ['attribute', 96252, '5', 96253], ['attribute', 96253, '5', 96252]], '3': [['attribute', 75619, '3', 96238], ['attribute', 96238, '3', 75619], ['product', 75381, '3', 96467], ['attribute', 96467, '3', 75381], ['attribute', 90463, '3', 95545], ['attribute', 95545, '3', 90463], ['attribute', 98103, '3', 98104], ['attribute', 98104, '3', 98103], ['attribute', 79226, '3', 96996], ['attribute', 96996, '3', 79226], ['attribute', 91888, '3', 96247], ['attribute', 96247, '3', 91888], ['product', 71487, '3', 98984], ['attribute', 98984, '3', 71487], ['attribute', 99370, '3', 99371], ['attribute', 99371, '3', 99370], ['attribute', 100839, '3', 99975], ['attribute', 99975, '3', 100839], ['attribute', 94925, '3', 96467], ['attribute', 96467, '3', 94925], ['attribute', 80886, '3', 103457], ['attribute', 103457, '3', 80886], ['attribute', 95649, '3', 103679], ['attribute', 103679, '3', 95649], ['product', 72542, '3', 105657], ['attribute', 105657, '3', 72542], ['attribute', 105710, '3', 105711], ['attribute', 105711, '3', 105710], ['attribute', 106004, '3', 95545], ['attribute', 95545, '3', 106004]], '8': [['attribute', 95541, '8', 76830], ['attribute', 76830, '8', 95541], ['attribute', 95585, '8', 95586], ['attribute', 95586, '8', 95585], ['attribute', 95668, '8', 89169], ['attribute', 89169, '8', 95668], ['attribute', 95762, '8', 95763], ['attribute', 95763, '8', 95762], ['attribute', 95791, '8', 95792], ['attribute', 95792, '8', 95791], ['attribute', 95872, '8', 95873], ['attribute', 95873, '8', 95872], ['attribute', 95908, '8', 95909], ['attribute', 95909, '8', 95908], ['attribute', 95944, '8', 86420], ['attribute', 86420, '8', 95944], ['attribute', 95994, '8', 73125], ['product', 73125, '8', 95994], ['attribute', 95622, '8', 96015], ['attribute', 96015, '8', 95622], ['attribute', 96083, '8', 74261], ['product', 74261, '8', 96083], ['attribute', 96106, '8', 71084], ['product', 71084, '8', 96106], ['attribute', 95541, '8', 76752], ['attribute', 76752, '8', 95541], ['attribute', 96396, '8', 96397], ['attribute', 96397, '8', 96396], ['attribute', 96545, '8', 90478], ['attribute', 90478, '8', 96545]], '37': [], '35': [['attribute', 93559, '35', 100766], ['attribute', 100766, '35', 93559], ['product', 95070, '35', 100766], ['attribute', 100766, '35', 95070], ['product', 95000, '35', 100766], ['attribute', 100766, '35', 95000], ['attribute', 107530, '35', 100766], ['attribute', 100766, '35', 107530], ['attribute', 108463, '35', 100766], ['attribute', 100766, '35', 108463], ['product', 71515, '35', 100766], ['attribute', 100766, '35', 71515], ['attribute', 110804, '35', 100766], ['attribute', 100766, '35', 110804], ['product', 89931, '35', 100766], ['attribute', 100766, '35', 89931], ['product', 94246, '35', 100766], ['attribute', 100766, '35', 94246], ['product', 79486, '35', 100766], ['attribute', 100766, '35', 79486], ['attribute', 124203, '35', 100766], ['attribute', 100766, '35', 124203], ['attribute', 94894, '35', 100766], ['attribute', 100766, '35', 94894], ['product', 70892, '35', 100766], ['attribute', 100766, '35', 70892], ['product', 94950, '35', 100766], ['attribute', 100766, '35', 94950], ['product', 93771, '35', 100766], ['attribute', 100766, '35', 93771]], '27': [['attribute', 97956, '27', 97957], ['attribute', 97957, '27', 97956], ['attribute', 129710, '27', 85104], ['product', 85104, '27', 129710], ['attribute', 123160, '27', 79227], ['attribute', 79227, '27', 123160], ['attribute', 144315, '27', 80658], ['attribute', 80658, '27', 144315], ['attribute', 154368, '27', 74164], ['product', 74164, '27', 154368], ['attribute', 137258, '27', 95041], ['attribute', 95041, '27', 137258], ['attribute', 138307, '27', 154333], ['attribute', 154333, '27', 138307], ['attribute', 166700, '27', 84405], ['attribute', 84405, '27', 166700], ['attribute', 129710, '27', 99539], ['attribute', 99539, '27', 129710], ['attribute', 154380, '27', 112597], ['attribute', 112597, '27', 154380], ['attribute', 95789, '27', 79388], ['attribute', 79388, '27', 95789], ['attribute', 109683, '27', 171569], ['attribute', 171569, '27', 109683], ['attribute', 175500, '27', 85400], ['product', 85400, '27', 175500], ['attribute', 130282, '27', 175806], ['attribute', 175806, '27', 130282], ['attribute', 166691, '27', 171056], ['attribute', 171056, '27', 166691]], '38': [['attribute', 132650, '38', 132651], ['attribute', 132651, '38', 132650], ['attribute', 135785, '38', 72456], ['product', 72456, '38', 135785], ['attribute', 144525, '38', 72938], ['product', 72938, '38', 144525], ['attribute', 132650, '38', 74120], ['product', 74120, '38', 132650], ['attribute', 157411, '38', 72307], ['product', 72307, '38', 157411], ['attribute', 157411, '38', 80096], ['attribute', 80096, '38', 157411], ['attribute', 162329, '38', 134747], ['attribute', 134747, '38', 162329], ['attribute', 144525, '38', 74405], ['attribute', 74405, '38', 144525], ['attribute', 144525, '38', 132651], ['attribute', 132651, '38', 144525], ['attribute', 172231, '38', 132651], ['attribute', 132651, '38', 172231], ['attribute', 162329, '38', 75071], ['product', 75071, '38', 162329], ['attribute', 162329, '38', 124220], ['attribute', 124220, '38', 162329], ['attribute', 162329, '38', 70609], ['product', 70609, '38', 162329], ['attribute', 176884, '38', 75071], ['product', 75071, '38', 176884], ['attribute', 144525, '38', 106392], ['attribute', 106392, '38', 144525]], '31': [['attribute', 100765, '31', 100766], ['attribute', 100766, '31', 100765], ['product', 84112, '31', 100766], ['attribute', 100766, '31', 84112], ['attribute', 104604, '31', 100766], ['attribute', 100766, '31', 104604], ['product', 73864, '31', 100766], ['attribute', 100766, '31', 73864], ['attribute', 115860, '31', 100766], ['attribute', 100766, '31', 115860], ['product', 94433, '31', 100766], ['attribute', 100766, '31', 94433], ['attribute', 119123, '31', 100766], ['attribute', 100766, '31', 119123], ['product', 95316, '31', 100766], ['attribute', 100766, '31', 95316], ['product', 71728, '31', 100766], ['attribute', 100766, '31', 71728], ['attribute', 93976, '31', 100766], ['attribute', 100766, '31', 93976], ['product', 95425, '31', 100766], ['attribute', 100766, '31', 95425], ['product', 95070, '31', 100766], ['attribute', 100766, '31', 95070], ['attribute', 153969, '31', 100766], ['attribute', 100766, '31', 153969], ['attribute', 119097, '31', 100766], ['attribute', 100766, '31', 119097], ['attribute', 92377, '31', 100766], ['attribute', 100766, '31', 92377]], '17': [['attribute', 95720, '17', 95721], ['attribute', 95721, '17', 95720], ['attribute', 95772, '17', 95773], ['attribute', 95773, '17', 95772], ['attribute', 96381, '17', 72178], ['attribute', 72178, '17', 96381], ['attribute', 96424, '17', 96425], ['attribute', 96425, '17', 96424], ['attribute', 96542, '17', 96543], ['attribute', 96543, '17', 96542], ['attribute', 96668, '17', 96669], ['attribute', 96669, '17', 96668], ['attribute', 96690, '17', 96691], ['attribute', 96691, '17', 96690], ['attribute', 96695, '17', 96696], ['attribute', 96696, '17', 96695], ['attribute', 95938, '17', 72178], ['attribute', 72178, '17', 95938], ['attribute', 97192, '17', 94027], ['product', 94027, '17', 97192], ['attribute', 97455, '17', 97456], ['attribute', 97456, '17', 97455], ['attribute', 97498, '17', 97499], ['attribute', 97499, '17', 97498], ['attribute', 97601, '17', 93301], ['attribute', 93301, '17', 97601], ['attribute', 97790, '17', 97791], ['attribute', 97791, '17', 97790], ['attribute', 98274, '17', 98275], ['attribute', 98275, '17', 98274]]}\n",
      "relation count =  {'purchase': 331384, '4': 520, '22': 812, '30': 606, '10': 74852, '24': 164, '32': 0, '9': 15576, '11': 1556, '19': 20124, '26': 536, '6': 0, 'self_loop': 0, '16': 7760, '28': 164, '15': 4794, '2': 0, '23': 194, '20': 4788, '34': 536, '25': 602, '12': 786, '21': 724, '14': 74702, '13': 15532, '33': 938, '36': 322, 'padding': 0, '29': 724, '0': 7420, '1': 7444, '18': 7712, '7': 2632, '5': 57814, '3': 7420, '8': 57582, '37': 0, '35': 700, '27': 324, '38': 270, '31': 446, '17': 20364}\n",
      "rela avg link number =  {'user': {'purchase': 23.77898966704937, 'self_loop': 1.0}, 'product': {'purchase': 16.845465636437577, 'self_loop': 1.0, '14': 1.0276666086653907, '10': 1.0272711481674484, '20': 1.261396422388921, '15': 1.2628538417099942, '13': 1.2856382978723404, '9': 1.2836691410392365, '0': 1.2496350364963504, '3': 1.2496350364963504, '1': 1.248546511627907, '18': 1.0420624151967435, '8': 2.136058981233244, '5': 2.1405568601140557, '16': 1.0444743935309972, '38': 2.393939393939394, '19': 4.224137931034483, '17': 4.3062098501070665, '31': 1.0, '35': 1.0, '25': 1.0, '30': 1.0, '12': 1.441860465116279, '27': 1.0, '36': 1.0, '29': 1.0, '21': 1.0, '11': 1.029585798816568, '33': 1.0449438202247192, '7': 1.0, '22': 2.4444444444444446, '34': 1.4444444444444444, '26': 1.4444444444444444, '28': 1.2, '4': 1.0, '24': 1.2, '23': 1.0}, 'attribute': {'5': 4.5068349106204, 'self_loop': 1.0, '14': 1.9821366831854328, '8': 4.485546601261388, '10': 1.9823441453876236, '9': 2.7829490162894013, '15': 1.2212306247064348, '20': 1.2224316682375118, '13': 2.7833191850594226, '0': 2.5382830626450117, '1': 2.538550501156515, '3': 2.5382830626450117, '18': 2.0532386867790593, '16': 2.0550323719835197, '27': 1.47979797979798, '36': 1.4846938775510203, '17': 8.207960644007155, '19': 8.163595505617977, '4': 1.9802371541501975, '21': 1.9036827195467423, '29': 1.9036827195467423, '24': 2.051948051948052, '28': 2.051948051948052, '33': 2.507418397626113, '11': 2.2544861337683524, '23': 1.7850467289719627, '7': 2.1027801179443975, '25': 2.373134328358209, '30': 2.376237623762376, '26': 2.0753968253968256, '34': 2.0753968253968256, '22': 4.619883040935672, '12': 3.497584541062802, '31': 3.036697247706422, '35': 3.5661764705882355, '38': 4.441860465116279}}\n"
     ]
    }
   ],
   "source": [
    "print('build', args.dataset, 'knowledge graph from dataset...')\n",
    "kg = KG_based_KG(args, dataset)"
   ]
  },
  {
   "cell_type": "markdown",
   "id": "split-ideal",
   "metadata": {},
   "source": [
    "build KG from review dataset class"
   ]
  },
  {
   "cell_type": "markdown",
   "id": "distinguished-keyboard",
   "metadata": {},
   "source": [
    "save information"
   ]
  },
  {
   "cell_type": "code",
   "execution_count": 7,
   "id": "indonesian-graduate",
   "metadata": {},
   "outputs": [
    {
     "name": "stdout",
     "output_type": "stream",
     "text": [
      "amazon-book_20core  save dataset, trn tst label, kg\n"
     ]
    }
   ],
   "source": [
    "print(args.dataset, ' save dataset, trn tst label, kg')\n",
    "save_dataset(args.dataset, dataset)\n",
    "save_labels(args.dataset, trn_label, mode='train')\n",
    "save_labels(args.dataset, tst_label, mode='test')\n",
    "save_kg(args.dataset, kg)"
   ]
  },
  {
   "cell_type": "markdown",
   "id": "exceptional-blond",
   "metadata": {},
   "source": [
    "part2 answer covering rate check"
   ]
  },
  {
   "cell_type": "code",
   "execution_count": 8,
   "id": "greater-medicare",
   "metadata": {},
   "outputs": [
    {
     "name": "stdout",
     "output_type": "stream",
     "text": [
      "Load embedding: ../data/amazon-book_20core/transe_embed.pkl\n"
     ]
    }
   ],
   "source": [
    "embeds = load_embed(args.dataset)\n",
    "embeds[SELF_LOOP] = (np.zeros(50), 0.0)"
   ]
  },
  {
   "cell_type": "code",
   "execution_count": 9,
   "id": "nutritional-daniel",
   "metadata": {},
   "outputs": [],
   "source": [
    "from math import log\n",
    "\n",
    "def evaluate(topk_matches, test_user_products):\n",
    "    \"\"\"Compute metrics for predicted recommendations.\n",
    "    Args:\n",
    "        topk_matches: a list or dict of product ids in ascending order.\n",
    "    \"\"\"\n",
    "    cum_k = 0\n",
    "    invalid_users = []\n",
    "    # Compute metrics\n",
    "    precisions, recalls, ndcgs, hits = [], [], [], []\n",
    "    test_user_idxs = list(test_user_products.keys())\n",
    "    for uid in test_user_idxs:\n",
    "\n",
    "        if uid not in topk_matches:\n",
    "            print('uid not in topk_matches = ',uid)\n",
    "            invalid_users.append(uid)\n",
    "            continue\n",
    "        pred_list, rel_set = topk_matches[uid][::-1], test_user_products[uid]\n",
    "\n",
    "        if len(pred_list) == 0:\n",
    "            cum_k += 1\n",
    "            ndcgs.append(0)\n",
    "            recalls.append(0)\n",
    "            precisions.append(0)\n",
    "            hits.append(0)\n",
    "            continue\n",
    "\n",
    "        dcg = 0.0\n",
    "        hit_num = 0.0\n",
    "        for i in range(len(pred_list)):\n",
    "            if pred_list[i] in rel_set:\n",
    "                dcg += 1. / (log(i + 2) / log(2))\n",
    "                hit_num += 1\n",
    "        # idcg\n",
    "        idcg = 0.0\n",
    "        for i in range(min(len(rel_set), len(pred_list))):\n",
    "            idcg += 1. / (log(i + 2) / log(2))\n",
    "        ndcg = dcg / idcg\n",
    "\n",
    "        recall = hit_num / len(rel_set)\n",
    "\n",
    "        precision = hit_num / len(pred_list)\n",
    "\n",
    "        hit = 1.0 if hit_num > 0.0 else 0.0\n",
    "\n",
    "        ndcgs.append(ndcg)\n",
    "        recalls.append(recall)\n",
    "        precisions.append(precision)\n",
    "        hits.append(hit)\n",
    "\n",
    "    avg_precision = np.mean(precisions) * 100\n",
    "    avg_recall = np.mean(recalls) * 100\n",
    "    avg_ndcg = np.mean(ndcgs) * 100\n",
    "    avg_hit = np.mean(hits) * 100\n",
    "    print('NDCG={:.3f} |  Recall={:.3f} | HR={:.3f} | Precision={:.3f} | Invalid users={}'.format(\n",
    "            avg_ndcg, avg_recall, avg_hit, avg_precision, len(invalid_users)))\n",
    "    print('cum_k == 0 ',  cum_k)\n",
    "    return avg_precision, avg_recall, avg_ndcg, avg_hit, invalid_users, cum_k"
   ]
  },
  {
   "cell_type": "code",
   "execution_count": 10,
   "id": "silent-event",
   "metadata": {},
   "outputs": [],
   "source": [
    "max_acts = 51\n",
    "\n",
    "def get_actions(path, user):\n",
    "    \"\"\"Compute actions for current node.\"\"\"\n",
    "    curr_node_type, curr_node_id = path\n",
    "    actions = [(SELF_LOOP, curr_node_id)]  # self-loop must be included.\n",
    "\n",
    "    relations_nodes = kg(curr_node_type, curr_node_id)\n",
    "    candidate_acts = []  # list of tuples of (relation, node_type, node_id)\n",
    "\n",
    "    for r in relations_nodes:\n",
    "        next_node_ids = relations_nodes[r]\n",
    "        next_node_set = []\n",
    "        for n_id in next_node_ids:\n",
    "            next_node_set.append([dataset.et_idx2ty[n_id],n_id])\n",
    "        next_node_ids = [n_set[1] for n_set in next_node_set]\n",
    "        candidate_acts.extend(zip([r] * len(next_node_ids), next_node_ids))\n",
    "\n",
    "    # (3) If candidate action set is empty, only return self-loop action.\n",
    "    if len(candidate_acts) == 0:\n",
    "        return actions\n",
    "\n",
    "    # (4) If number of available actions is smaller than max_acts, return action sets.\n",
    "    if len(candidate_acts) <= max_acts:\n",
    "        candidate_acts = sorted(candidate_acts, key=lambda x: (x[0], x[1]))\n",
    "        actions.extend(candidate_acts)\n",
    "        return actions\n",
    "\n",
    "    # (5) If there are too many actions, do some deterministic trimming here!\n",
    "    user_embed = embeds[USER][user]\n",
    "    scores = []\n",
    "    for r, next_node_id in candidate_acts:\n",
    "        next_node_type = dataset.et_idx2ty[next_node_id]\n",
    "        if next_node_type == USER:\n",
    "            src_embed = user_embed\n",
    "        elif next_node_type == PRODUCT:\n",
    "            src_embed = user_embed + embeds[PURCHASE][0]\n",
    "        elif next_node_type == WORD:\n",
    "            src_embed = user_embed + embeds[MENTION][0]\n",
    "        else:\n",
    "            src_embed = user_embed + embeds[PURCHASE][0] + embeds[r][0]\n",
    "        score = np.matmul(src_embed, embeds[next_node_type][next_node_id])\n",
    "        scores.append(score)\n",
    "        \n",
    "    candidate_idxs = np.argsort(scores)[-max_acts:]  # choose actions with larger scores\n",
    "    candidate_acts = sorted([candidate_acts[i] for i in candidate_idxs], key=lambda x: (x[0], x[1]))\n",
    "    actions.extend(candidate_acts)\n",
    "    return actions"
   ]
  },
  {
   "cell_type": "code",
   "execution_count": 11,
   "id": "familiar-wagner",
   "metadata": {},
   "outputs": [],
   "source": [
    "def ans_cover_rate(step):\n",
    "    anser_cover = {}\n",
    "    for user, trn_item_list in trn_label.items():\n",
    "        total_item = [[USER, user]]\n",
    "        cache = {}\n",
    "        cache[USER] = {}\n",
    "        cache[USER][user] = 1\n",
    "        for _ in range(step):\n",
    "            total_item_tmp = []\n",
    "            for action in total_item:\n",
    "                next_action = get_actions(action, user)\n",
    "\n",
    "                for n_action in next_action:\n",
    "                    curr_node_type, _ = action\n",
    "                    relation, next_node_id = n_action\n",
    "                    if relation == SELF_LOOP: next_node_type = curr_node_type\n",
    "                    else: next_node_type = dataset.et_idx2ty[next_node_id]\n",
    "                    if next_node_type not in cache: cache[next_node_type] = {}\n",
    "                    if next_node_id not in cache[next_node_type]:\n",
    "                        cache[next_node_type][next_node_id] = 1\n",
    "                        total_item_tmp.append([next_node_type, next_node_id])\n",
    "            total_item = total_item_tmp\n",
    "\n",
    "        anser_cover[user] = [it for it in cache['product'] if it not in trn_item_list]\n",
    "\n",
    "    evaluate(anser_cover, tst_label)"
   ]
  },
  {
   "cell_type": "code",
   "execution_count": 12,
   "id": "palestinian-bottom",
   "metadata": {},
   "outputs": [
    {
     "name": "stdout",
     "output_type": "stream",
     "text": [
      "NDCG=0.000 |  Recall=0.000 | HR=0.000 | Precision=0.000 | Invalid users=0\n",
      "cum_k == 0  5957\n"
     ]
    }
   ],
   "source": [
    "ans_cover_rate(1)"
   ]
  },
  {
   "cell_type": "code",
   "execution_count": 13,
   "id": "tight-trainer",
   "metadata": {},
   "outputs": [
    {
     "name": "stdout",
     "output_type": "stream",
     "text": [
      "NDCG=8.003 |  Recall=4.438 | HR=25.483 | Precision=7.597 | Invalid users=0\n",
      "cum_k == 0  1121\n"
     ]
    }
   ],
   "source": [
    "ans_cover_rate(2)"
   ]
  },
  {
   "cell_type": "code",
   "execution_count": 14,
   "id": "funny-trigger",
   "metadata": {},
   "outputs": [
    {
     "name": "stdout",
     "output_type": "stream",
     "text": [
      "NDCG=15.951 |  Recall=90.629 | HR=99.564 | Precision=0.195 | Invalid users=0\n",
      "cum_k == 0  0\n"
     ]
    }
   ],
   "source": [
    "ans_cover_rate(3)"
   ]
  },
  {
   "cell_type": "code",
   "execution_count": null,
   "id": "genetic-pattern",
   "metadata": {},
   "outputs": [],
   "source": []
  },
  {
   "cell_type": "code",
   "execution_count": null,
   "id": "periodic-transcription",
   "metadata": {},
   "outputs": [],
   "source": []
  }
 ],
 "metadata": {
  "kernelspec": {
   "display_name": "Python 3",
   "language": "python",
   "name": "python3"
  },
  "language_info": {
   "codemirror_mode": {
    "name": "ipython",
    "version": 3
   },
   "file_extension": ".py",
   "mimetype": "text/x-python",
   "name": "python",
   "nbconvert_exporter": "python",
   "pygments_lexer": "ipython3",
   "version": "3.8.5"
  }
 },
 "nbformat": 4,
 "nbformat_minor": 5
}
